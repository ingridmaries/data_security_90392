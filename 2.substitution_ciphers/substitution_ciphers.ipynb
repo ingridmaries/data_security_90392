{
 "cells": [
  {
   "cell_type": "markdown",
   "id": "00172a96",
   "metadata": {},
   "source": [
    "# Substitution Ciphers"
   ]
  },
  {
   "attachments": {},
   "cell_type": "markdown",
   "id": "88c571e3-d03d-4506-a411-67663dc6ff9f",
   "metadata": {},
   "source": [
    "Brief introduction to substitution ciphers (Max 150 words)\n",
    "\n",
    "Each character is replaced with a different siphertext symbol (encoding) and to decipher the text is the reverse subsitition made (decoding)."
   ]
  },
  {
   "cell_type": "code",
   "execution_count": 39,
   "id": "082b70d2-197b-4c55-9092-4c1cb02a6298",
   "metadata": {},
   "outputs": [],
   "source": [
    "import matplotlib.pyplot as plt\n",
    "\n",
    "from string import ascii_lowercase as alc\n"
   ]
  },
  {
   "cell_type": "markdown",
   "id": "6a297866",
   "metadata": {},
   "source": [
    "## Caesar Cipher"
   ]
  },
  {
   "cell_type": "markdown",
   "id": "b53b1655",
   "metadata": {},
   "source": [
    "Explanation of Caesar Cipher (Max 150 words)"
   ]
  },
  {
   "attachments": {},
   "cell_type": "markdown",
   "id": "ebe5cec3",
   "metadata": {},
   "source": [
    "Caesar Cipher used the substiution method, by shifting the letters in the alphabeth by a fixed number of spaces to make an encoding alphabet."
   ]
  },
  {
   "cell_type": "markdown",
   "id": "2ae56b56-293c-4f94-978b-1ea64f122002",
   "metadata": {},
   "source": [
    "Type of attacks of Caesar Cipher (Max 150 words)"
   ]
  },
  {
   "attachments": {},
   "cell_type": "markdown",
   "id": "6ec148a5",
   "metadata": {},
   "source": [
    "Brute Force: try all possibilites\n",
    "Frequency analysis: interpret the shift by comparing the freqency of letters to the one of the alphabet"
   ]
  },
  {
   "cell_type": "markdown",
   "id": "d79da87f-6130-427e-9104-9619e3b7b5e4",
   "metadata": {},
   "source": [
    "### Decoder"
   ]
  },
  {
   "cell_type": "markdown",
   "id": "62d29861",
   "metadata": {
    "jp-MarkdownHeadingCollapsed": true,
    "tags": []
   },
   "source": [
    "Explain how the decoder of a Caesar Cipher works (Max 150 words)"
   ]
  },
  {
   "attachments": {},
   "cell_type": "markdown",
   "id": "a8f2b31b",
   "metadata": {},
   "source": [
    "The decoder will take in the ciphertext, and needs the alphabet and the shift in order to correctly make a new alphabet."
   ]
  },
  {
   "cell_type": "code",
   "execution_count": 40,
   "id": "a5b0d026",
   "metadata": {},
   "outputs": [],
   "source": [
    "#hardcoded, assuming the english alphabet \n",
    "alphabet = 'abcdefghijklmnopqrstuvwxyz'\n",
    "\n",
    "def caesar_decoding(ciphertext, shift=0):\n",
    "    \n",
    "    #recreating the cipher_alphabet used, by using the negative shift and the english alphabet\n",
    "    cipher_alphabet = alphabet[-shift:] + alphabet[:-shift]\n",
    "\n",
    "    #making a mapping dictionary, matching the alphabet to their encoded counterpart in a tuple\n",
    "    mapping = dict(zip(alphabet, cipher_alphabet))\n",
    "    #checking each letter in the ciphertext and matching it to the corresponding letter from the dictionary\n",
    "\n",
    "    plaintext = ''\n",
    "\n",
    "    for x in ciphertext:\n",
    "        if x in mapping.keys():\n",
    "            plaintext+=mapping.get(x)\n",
    "        else:\n",
    "            plaintext+=x\n",
    "\n",
    "    return plaintext"
   ]
  },
  {
   "cell_type": "code",
   "execution_count": 41,
   "id": "4317bf77",
   "metadata": {},
   "outputs": [
    {
     "name": "stdout",
     "output_type": "stream",
     "text": [
      "lipps! -> hello!\n"
     ]
    }
   ],
   "source": [
    "# code snippet to test the implementation of the decoder\n",
    "ciphertext = 'lipps!' # 'hello!' encoded with shift=4\n",
    "plaintext = caesar_decoding(ciphertext, shift=4)\n",
    "\n",
    "print(ciphertext, '->', plaintext)"
   ]
  },
  {
   "cell_type": "markdown",
   "id": "6bf38609",
   "metadata": {},
   "source": [
    "### Ciphertext"
   ]
  },
  {
   "cell_type": "code",
   "execution_count": 42,
   "id": "09746945-d53e-47eb-8bf2-0079a150ecdc",
   "metadata": {},
   "outputs": [],
   "source": [
    "# Load ciphertext\n",
    "with open(file='ciphertext_caesar.txt', mode='r') as f:\n",
    "    txt = f.read()"
   ]
  },
  {
   "cell_type": "markdown",
   "id": "36d3498f",
   "metadata": {},
   "source": [
    "### Brute Force"
   ]
  },
  {
   "cell_type": "markdown",
   "id": "1c3d1d7c-d12a-4104-8eae-c3ec454069ea",
   "metadata": {},
   "source": [
    "Describe the procedure necessary to perfrom a Brute Force attack  (Max 150 words)"
   ]
  },
  {
   "attachments": {},
   "cell_type": "markdown",
   "id": "5e2cdf77",
   "metadata": {},
   "source": [
    "Brute Force is trying every possiblity, one by one, to try crack the code. \n",
    "\n",
    "For this, it would mean trying 26 possible shifts to find the right one. "
   ]
  },
  {
   "cell_type": "code",
   "execution_count": 43,
   "id": "de080a59-7b09-44b7-82a3-ab3bfc76d0ca",
   "metadata": {},
   "outputs": [
    {
     "name": "stdout",
     "output_type": "stream",
     "text": [
      "0 -> qfmdhcufodvm, cf qfmdhczcum (tfca obqwsbh ufssy: κ\n",
      "1 -> pelcgbtencul, be pelcgbybtl (sebz napvrag terrx: κ\n",
      "2 -> odkbfasdmbtk, ad odkbfaxask (rday mzouqzf sdqqw: κ\n",
      "3 -> ncjaezrclasj, zc ncjaezwzrj (qczx lyntpye rcppv: κ\n",
      "4 -> mbizdyqbkzri, yb mbizdyvyqi (pbyw kxmsoxd qboou: κ\n",
      "5 -> lahycxpajyqh, xa lahycxuxph (oaxv jwlrnwc pannt: κ\n",
      "6 -> kzgxbwozixpg, wz kzgxbwtwog (nzwu ivkqmvb ozmms: κ\n",
      "7 -> jyfwavnyhwof, vy jyfwavsvnf (myvt hujplua nyllr: κ\n",
      "8 -> ixevzumxgvne, ux ixevzurume (lxus gtioktz mxkkq: κ\n",
      "9 -> hwduytlwfumd, tw hwduytqtld (kwtr fshnjsy lwjjp: κ\n",
      "10 -> gvctxskvetlc, sv gvctxspskc (jvsq ergmirx kviio: κ\n",
      "11 -> fubswrjudskb, ru fubswrorjb (iurp dqflhqw juhhn: κ\n",
      "12 -> etarvqitcrja, qt etarvqnqia (htqo cpekgpv itggm: κ\n",
      "13 -> dszquphsbqiz, ps dszqupmphz (gspn bodjfou hsffl: κ\n",
      "14 -> cryptography, or cryptology (from ancient greek: κ\n",
      "15 -> bqxosnfqzogx, nq bqxosnknfx (eqnl zmbhdms fqddj: κ\n",
      "16 -> apwnrmepynfw, mp apwnrmjmew (dpmk ylagclr epcci: κ\n",
      "17 -> zovmqldoxmev, lo zovmqlildv (colj xkzfbkq dobbh: κ\n",
      "18 -> ynulpkcnwldu, kn ynulpkhkcu (bnki wjyeajp cnaag: κ\n",
      "19 -> xmtkojbmvkct, jm xmtkojgjbt (amjh vixdzio bmzzf: κ\n",
      "20 -> wlsjnialujbs, il wlsjnifias (zlig uhwcyhn alyye: κ\n",
      "21 -> vkrimhzktiar, hk vkrimhehzr (ykhf tgvbxgm zkxxd: κ\n",
      "22 -> ujqhlgyjshzq, gj ujqhlgdgyq (xjge sfuawfl yjwwc: κ\n",
      "23 -> tipgkfxirgyp, fi tipgkfcfxp (wifd retzvek xivvb: κ\n",
      "24 -> shofjewhqfxo, eh shofjebewo (vhec qdsyudj whuua: κ\n",
      "25 -> rgneidvgpewn, dg rgneidadvn (ugdb pcrxtci vgttz: κ\n"
     ]
    }
   ],
   "source": [
    "# Perform a Brute Force attack\n",
    "\n",
    "#trying all shifts possible in the alphabet, which is the length of the alphabet\n",
    "#printing the shift and plaintext translated to find the right one\n",
    "for shift in range(len(alphabet)):\n",
    "    plaintext = caesar_decoding(txt, shift=shift)\n",
    "    print(shift, '->', plaintext[:50])"
   ]
  },
  {
   "attachments": {},
   "cell_type": "markdown",
   "id": "424ad9ad",
   "metadata": {},
   "source": [
    "As we can read, shift number 14 is the only one that translate to English."
   ]
  },
  {
   "cell_type": "code",
   "execution_count": 44,
   "id": "aeeb5386-91a3-405a-81c8-7a106a44f12c",
   "metadata": {},
   "outputs": [
    {
     "name": "stdout",
     "output_type": "stream",
     "text": [
      "The shift is 14, resulting in the decoded text being cryptography, or cryptology (from ancient greek: κρυπτός, romanized: kryptós \"hidden, secret\"; and γράφειν graphein, \"to write\", or -λογία -logia, \"study\", respectively), is the practice and study of techniques for secure communication in the presence of third parties called adversaries. more generally, cryptography is about constructing and analyzing protocols that prevent third parties or the public from reading private messages; various aspects in information security such as data confidentiality, data integrity, authentication, and non-repudiation are central to modern cryptography. modern cryptography exists at the intersection of the disciplines of mathematics, computer science, electrical engineering, communication science, and physics. applications of cryptography include electronic commerce, chip-based payment cards, digital currencies, computer passwords, and military communications.\n",
      "cryptography prior to the modern age was effectively synonymous with encryption, converting i\n"
     ]
    }
   ],
   "source": [
    "# Print decrypted plaintext and the key (shift)\n",
    "\n",
    "plaintext = caesar_decoding(txt, shift=14)\n",
    "print('The shift is 14, resulting in the decoded text being', plaintext[:1000])"
   ]
  },
  {
   "cell_type": "markdown",
   "id": "9503d65c",
   "metadata": {},
   "source": [
    "## Simple Substitution Cipher"
   ]
  },
  {
   "cell_type": "markdown",
   "id": "1142538f-3869-4cde-b822-e75b386169ad",
   "metadata": {},
   "source": [
    "Explanation of a Substitution Cipher (Max 150 words)"
   ]
  },
  {
   "attachments": {},
   "cell_type": "markdown",
   "id": "3a19805a",
   "metadata": {},
   "source": [
    "In a simple substitution cipher, every plaintext character is replaced with a different ciphertext character.\n",
    "In the English alphabet, it will be 26! possibilites."
   ]
  },
  {
   "cell_type": "markdown",
   "id": "7d156339-cebb-4302-9ee2-a74cc5b87866",
   "metadata": {},
   "source": [
    "Type of attacks of a Substitution Cipher (Max 150 words)"
   ]
  },
  {
   "attachments": {},
   "cell_type": "markdown",
   "id": "a97e41e8",
   "metadata": {},
   "source": [
    "Since the possibilities are so many, Brute Force won't work. Therefor is a frequency analysis used to narrow it down, and find possible replacements. "
   ]
  },
  {
   "cell_type": "markdown",
   "id": "e28968b7",
   "metadata": {},
   "source": [
    "### Decoder"
   ]
  },
  {
   "cell_type": "markdown",
   "id": "3cc7ae6e-3bfb-43e3-838e-53ed1c7f382a",
   "metadata": {
    "jp-MarkdownHeadingCollapsed": true,
    "tags": []
   },
   "source": [
    "Explain how the decoder of a Substitution Cipher works (Max 150 words)"
   ]
  },
  {
   "attachments": {},
   "cell_type": "markdown",
   "id": "4dfe6c75",
   "metadata": {},
   "source": [
    "The decoder will need to know the alphabet, and a mapping rule (which ciphercharacter corresponds to the alphabet)\n",
    "It maps the character to translate."
   ]
  },
  {
   "cell_type": "code",
   "execution_count": 45,
   "id": "adb6fd3b",
   "metadata": {},
   "outputs": [],
   "source": [
    "def substitution_decoding(ciphertext, rule):\n",
    "    plaintext=''\n",
    "    for x in ciphertext:\n",
    "        if x in rule.values():\n",
    "            plaintext+=rule.get(x)\n",
    "        else:\n",
    "            plaintext+=x\n",
    "\n",
    "    return plaintext"
   ]
  },
  {
   "cell_type": "code",
   "execution_count": 46,
   "id": "33b9b1e0-9132-4147-8d14-5b036f7a0658",
   "metadata": {},
   "outputs": [
    {
     "name": "stdout",
     "output_type": "stream",
     "text": [
      "itssg! -> hello!\n"
     ]
    }
   ],
   "source": [
    "# Test your function\n",
    "\n",
    "# making up a rule for testing purpose, and mapping it to the alphabet, making a dictonary with rules\n",
    "cipher_alphabet = 'qwertyuiopasdfghjklzxcvbnm'\n",
    "mapping_rule = dict(zip(cipher_alphabet,alphabet))\n",
    "\n",
    "ciphertext = 'itssg!' \n",
    "text = substitution_decoding(ciphertext, rule=mapping_rule)\n",
    "\n",
    "print(ciphertext, '->', text)\n"
   ]
  },
  {
   "cell_type": "markdown",
   "id": "68a41fcd",
   "metadata": {},
   "source": [
    "### Ciphertext"
   ]
  },
  {
   "cell_type": "code",
   "execution_count": 47,
   "id": "8d8aa5ee-a119-48c0-a9e8-3b4b8a3cb034",
   "metadata": {},
   "outputs": [],
   "source": [
    "# Load ciphertext\n",
    "with open(file='ciphertext_simple.txt', mode='r') as f:\n",
    "    txt_simple = f.read()"
   ]
  },
  {
   "cell_type": "markdown",
   "id": "843e03cd",
   "metadata": {},
   "source": [
    "### Frequency Analysis"
   ]
  },
  {
   "cell_type": "markdown",
   "id": "456bfb67",
   "metadata": {},
   "source": [
    "Describe the frequency analysis attack (Max 150 words)"
   ]
  },
  {
   "attachments": {},
   "cell_type": "markdown",
   "id": "ff942095",
   "metadata": {},
   "source": [
    "Using the excepted frequency of the english letters in a text, can we match the ciphers to their counterpart by analyzing the ciphers frequency. "
   ]
  },
  {
   "cell_type": "code",
   "execution_count": 48,
   "id": "e835f650-3896-49e8-93d7-8ad609e1dbdc",
   "metadata": {},
   "outputs": [],
   "source": [
    "# Load the true letter frequency distribution computed in Homework\n",
    "def findLetter(letter, text):\n",
    "    occurence = text.lower().count(letter)\n",
    "    return occurence\n",
    "\n",
    "def letterFrequency(text):\n",
    "    letter_dict = {}    \n",
    "    for i in alc:\n",
    "        letter_dict[i]= findLetter(i, text)\n",
    "    return(letter_dict)\n",
    "\n",
    "\n",
    "data_dict=letterFrequency(txt_simple)"
   ]
  },
  {
   "cell_type": "code",
   "execution_count": 49,
   "id": "9d08692b-e7c2-4133-a603-f26d44dd1dc8",
   "metadata": {},
   "outputs": [
    {
     "data": {
      "image/png": "[encoded data removed]",
      "text/plain": [
       "<Figure size 432x288 with 1 Axes>"
      ]
     },
     "metadata": {
      "needs_background": "light"
     },
     "output_type": "display_data"
    }
   ],
   "source": [
    "# Plot the distribution\n",
    "\n",
    "plt.bar(*zip(*data_dict.items()))\n",
    "plt.show()\n"
   ]
  },
  {
   "cell_type": "code",
   "execution_count": 50,
   "id": "7710c2bf",
   "metadata": {},
   "outputs": [
    {
     "data": {
      "image/png": "[encoded data removed]",
      "text/plain": [
       "<Figure size 432x288 with 1 Axes>"
      ]
     },
     "metadata": {
      "needs_background": "light"
     },
     "output_type": "display_data"
    }
   ],
   "source": [
    "temp=dict(sorted(data_dict.items(), key=lambda x:x[1], reverse=True))\n",
    "letterFrequencyCipertext = temp.keys()\n",
    "\n",
    "plt.bar(*zip(*temp.items()))\n",
    "plt.show()"
   ]
  },
  {
   "cell_type": "code",
   "execution_count": 51,
   "id": "1fd8a8c4",
   "metadata": {},
   "outputs": [
    {
     "name": "stdout",
     "output_type": "stream",
     "text": [
      "Alphabet etaoinsrhdlucmfywgpbvkxqjz\n",
      "Cipher   reyjxfwvmhtblcnisodazqupkg\n"
     ]
    }
   ],
   "source": [
    "letterFrequencyAlphabet = 'etaoinsrhdlucmfywgpbvkxqjz'\n",
    "print(\"Alphabet\", letterFrequencyAlphabet)\n",
    "print(\"Cipher  \", ''.join(letterFrequencyCipertext))"
   ]
  },
  {
   "cell_type": "code",
   "execution_count": 52,
   "id": "d586bbe8",
   "metadata": {},
   "outputs": [
    {
     "name": "stdout",
     "output_type": "stream",
     "text": [
      "{'r': 'e', 'e': 't', 'y': 'a', 'j': 'o', 'x': 'i', 'f': 'n', 'w': 's', 'v': 'r', 'm': 'h', 'h': 'd', 't': 'l', 'b': 'u', 'l': 'c', 'c': 'm', 'n': 'f', 'i': 'y', 's': 'w', 'o': 'g', 'd': 'p', 'a': 'b', 'z': 'v', 'q': 'k', 'u': 'x', 'p': 'q', 'k': 'j', 'g': 'z'}\n"
     ]
    }
   ],
   "source": [
    "mapping_rule2 = dict(zip(letterFrequencyCipertext,letterFrequencyAlphabet))\n",
    "print(mapping_rule2)\n"
   ]
  },
  {
   "cell_type": "code",
   "execution_count": 53,
   "id": "af14a82e-0202-4d9f-abb3-e1feba2c439c",
   "metadata": {},
   "outputs": [
    {
     "name": "stdout",
     "output_type": "stream",
     "text": [
      "ldamue edpnnu shattnt (afrid 30, 1916 – yebrmarg 24, 2001) pas at acerilat caohecaoiliat, edelorilad etwiteer, atu lrgfonwrafher ktnpt as \"ohe yaoher ny itynrcaoint ohenrg\". shattnt is tnoeu ynr havitw ynmtueu itynrcaoint ohenrg pioh a datucark fafer, \"a caohecaoilad ohenrg ny lnccmtilaoint\", philh he fmbdisheu it 1948.\n",
      "he is adsn pedd ktnpt ynr ynmtuitw uiwioad lirlmio uesiwt ohenrg it 1937, phet—as a 21-gear-ndu casoer's uewree somueto ao ohe cassalhmseoos itsoiomoe ny oelhtndnwg (cio)—he prnoe his ohesis uecntsoraoitw ohao edelorilad affdilaoints ny bnndeat adwebra lnmdu lntsormlo atg dnwilad tmcerilad redaointshif. shattnt lntoribmoeu on ohe yiedu ny lrgfoatadgsis ynr taointad ueyetse um\n"
     ]
    }
   ],
   "source": [
    "# Perform the Frequency Analysis attack\n",
    "\n",
    "text = substitution_decoding(txt_simple, rule=mapping_rule2)\n",
    "print(text[:700])"
   ]
  },
  {
   "attachments": {},
   "cell_type": "markdown",
   "id": "01a88de0",
   "metadata": {},
   "source": [
    "We assume that the months are april and february, and that \"pas\" is was. \n",
    "That leaves us with e,a,i,r and b already correctly matched to the cipher, and lets us match some of the others.\n",
    "So can we continue as we discover more likely words. To make it easy for myself, I wrote it all in one cell."
   ]
  },
  {
   "cell_type": "code",
   "execution_count": 54,
   "id": "a19119c7",
   "metadata": {},
   "outputs": [
    {
     "name": "stdout",
     "output_type": "stream",
     "text": [
      "claude elwood shannon (april 30, 1916 – february 24, 2001) was an american mathematician, electrical engineer, and cryptographer known as \"the father of information theory\". shannon is noted for having founded information theory with a landmark paper, \"a mathematical theory of communication\", which he published in 1948.\n",
      "he is also well known for founding digital circuit design theory in 1937, when—as a 21-year-old master's degree student at the massachusetts institute of technology (mit)—he wrote his thesis demonstrating that electrical applications of boolean algebra could construct any logical numerical relationship. shannon contributed to the field of cryptanalysis for national defense du\n"
     ]
    }
   ],
   "source": [
    "mapping_rule2['d'],mapping_rule2['n'],mapping_rule2['i'] = 'w', 'p', 'f'\n",
    "mapping_rule2['h'],mapping_rule2['l'] = 'l', 'm'\n",
    "mapping_rule2['o'] = 'y'\n",
    "mapping_rule2['c'],mapping_rule2['b'] = 'u', 'd'\n",
    "mapping_rule2['s'] = \"g\"\n",
    "mapping_rule2['e'] = 'n' \n",
    "mapping_rule2['f']='o'\n",
    "mapping_rule2['j']='t'\n",
    "mapping_rule2['t']='c'\n",
    "mapping_rule2['m']='h'\n",
    "mapping_rule2['a']='b'\n",
    "mapping_rule2['u']='j'\n",
    "mapping_rule2['k']='x'\n",
    "\n",
    "\n",
    "text = substitution_decoding(txt_simple, rule=mapping_rule2)\n",
    "print(text[:700])"
   ]
  },
  {
   "cell_type": "code",
   "execution_count": 55,
   "id": "7853d9cb-1414-4b8f-bf95-856d32e6fe61",
   "metadata": {},
   "outputs": [
    {
     "name": "stdout",
     "output_type": "stream",
     "text": [
      "This is the key {'r': 'e', 'e': 'n', 'y': 'a', 'j': 't', 'x': 'i', 'f': 'o', 'w': 's', 'v': 'r', 'm': 'h', 'h': 'l', 't': 'c', 'b': 'd', 'l': 'm', 'c': 'u', 'n': 'p', 'i': 'f', 's': 'g', 'o': 'y', 'd': 'w', 'a': 'b', 'z': 'v', 'q': 'k', 'u': 'j', 'p': 'q', 'k': 'x', 'g': 'z'}\n",
      "claude elwood shannon (april 30, 1916 – february 24, 2001) was an american mathematician, electrical engineer, and cryptographer known as \"the father of information theory\". shannon is noted for having founded information theory with a landmark paper, \"a mathematical theory of communication\", which he published in 1948.\n",
      "he is also well known for founding digital circuit design theory in 1937, when—as a 21-year-old master's degree student at the massachusetts institute of technology (mit)—he wrote his thesis demonstrating that electrical applications of boolean algebra could construct any logical numerical relationship. shannon contributed to the field of cryptanalysis for national defense during world war ii, including his fundamental work on codebreaking and secure telecommunications.\n",
      "\n",
      "\n",
      "== biography ==\n",
      "\n",
      "\n",
      "=== childhood ===\n",
      "the shannon family lived in gaylord, michigan, and claude was born in a hospital in nearby petoskey. his father, claude sr. (1862–1934) was a businessman and for a while, a judge of probate in gaylord. his mother, mabel wolf shannon (1890–1945), was a language teacher, who also served as the principal of gaylord high school. claude sr. was a descendant of new jersey settlers, while mabel was a child of german immigrants.most of the first 16 years of shannon's life were spent in gaylord, where he attended public school, graduating from gaylord high school in 1932. shannon showed an inclination towards mechanical and electrical things. his best subjects were science and mathematics. at home he constructed such devices as models of planes, a radio-controlled model boat and a barbed-wire telegraph system to a friend's house a half-mile away. while growing up, he also worked as a messenger for the western union company.\n",
      "shannon's childhood hero was thomas edison, who he later learned was a distant cousin. both shannon and edison were descendants of john \n"
     ]
    }
   ],
   "source": [
    "# Print decrypted plaintext and the key (shift)\n",
    "\n",
    "plaintext = substitution_decoding(ciphertext, rule=mapping_rule2)\n",
    "print(\"This is the key\", mapping_rule2)\n",
    "print(text[:1900])\n"
   ]
  },
  {
   "cell_type": "markdown",
   "id": "b15470e3-b320-40a3-b8df-b43abf3e8338",
   "metadata": {},
   "source": [
    "## Bonus Task"
   ]
  },
  {
   "cell_type": "code",
   "execution_count": 56,
   "id": "489a3a33-3e2a-483f-82fa-131d66752460",
   "metadata": {},
   "outputs": [],
   "source": [
    "# Code here\n"
   ]
  }
 ],
 "metadata": {
  "kernelspec": {
   "display_name": "Python 3 (ipykernel)",
   "language": "python",
   "name": "python3"
  },
  "language_info": {
   "codemirror_mode": {
    "name": "ipython",
    "version": 3
   },
   "file_extension": ".py",
   "mimetype": "text/x-python",
   "name": "python",
   "nbconvert_exporter": "python",
   "pygments_lexer": "ipython3",
   "version": "3.9.7"
  }
 },
 "nbformat": 4,
 "nbformat_minor": 5
}
