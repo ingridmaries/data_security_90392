{
 "cells": [
  {
   "attachments": {},
   "cell_type": "markdown",
   "id": "14919be0",
   "metadata": {},
   "source": [
    "# Stream Cipher\n"
   ]
  },
  {
   "attachments": {},
   "cell_type": "markdown",
   "id": "a93ce11e",
   "metadata": {},
   "source": [
    "### Stream Ciphers\n",
    "\n",
    "A stream cipher is an encryption technique that works byte by byte to transform plain text into code that's unreadable to anyone without the proper key. It is highly efficient, and can provide real-time encryption and decryption. The main problem is making sure the keystream is unpredictable enough and not to repetative. "
   ]
  },
  {
   "cell_type": "code",
   "execution_count": 114,
   "id": "ef42c9de",
   "metadata": {},
   "outputs": [],
   "source": [
    "import numpy as np\n",
    "from functools import reduce\n",
    "from operator import xor\n",
    "from itertools import islice"
   ]
  },
  {
   "attachments": {},
   "cell_type": "markdown",
   "id": "0dd4162d",
   "metadata": {},
   "source": [
    "## LFSR\n"
   ]
  },
  {
   "attachments": {},
   "cell_type": "markdown",
   "id": "a9acc762",
   "metadata": {},
   "source": [
    "### Linear-feedback shift register (LFSR)\n",
    "\n",
    "LFSR is used to generate a pseudo-randrom stream of binary.\n",
    "It iterates a number of times, using the uses the previous polynomial to compute the next. If often shifts one place at the time, and can make a somewhat long row of binary numbers.\n"
   ]
  },
  {
   "cell_type": "code",
   "execution_count": 109,
   "id": "79b52f5f",
   "metadata": {},
   "outputs": [],
   "source": [
    "#to be used for converting\n",
    "\n",
    "def bin_to_int(fist_bin):\n",
    "  return int(\"\".join(str(x) for x in fist_bin), 2)\n",
    "\n",
    "def int_to_bin(int_numb, N):\n",
    "  binary = [1 if digit == '1' else 0 for digit in bin(int_numb)[2:]]\n",
    "  return [0 for i in range(N - len(binary))] + binary"
   ]
  },
  {
   "cell_type": "code",
   "execution_count": 219,
   "id": "66e513bc",
   "metadata": {},
   "outputs": [],
   "source": [
    "class LFSR:\n",
    "\n",
    "    ''' Attributes:\n",
    "        poly (list of int): The coefficients of the polynomial function in the LFSR.\n",
    "        length (int): The length of the LFSR sequence.\n",
    "        output (bool): The current output bit of the LFSR.\n",
    "        feedback (bool): The current feedback bit of the LFSR.\n",
    "        state (list of bits): The current state of the LFSR. '''\n",
    "\n",
    "    def __init__(self, poly, state=None):\n",
    "        ''' Initializes the LFSR object with a given polynomial and state'''\n",
    "\n",
    "        self.length = max(poly)\n",
    "        self.output = None\n",
    "        self.feedback = 0\n",
    "\n",
    "        self.poly = [0 for _ in range(max(poly) + 1)] \n",
    "        for i in range(len(self.poly)):\n",
    "            if i in poly:\n",
    "                self.poly[i] = 1\n",
    "        self.poly.reverse()\n",
    "        self.poly.pop()\n",
    "\n",
    "        if state is None:\n",
    "            self.state = [1 for _ in range(max(poly) + 1)] #all is 1 if no state\n",
    "        else:\n",
    "            if isinstance(state, int):\n",
    "                self.state = int_to_bin(state, max(self.poly))\n",
    "            else:\n",
    "                self.state = [(digit) for digit in state]\n",
    "\n",
    "        if len(self.state) < len(self.poly):\n",
    "            self.state = [1 for _ in range(len(self.poly))] #in case the state is shorter than the poly\n",
    "\n",
    "    def __iter__(self):\n",
    "        return self\n",
    "\n",
    "    def __next__(self):\n",
    "        '''Calculates the next output bit of the LFSR sequence and updates the state'''\n",
    "        anded = []\n",
    "        for i in range(len(self.poly)):\n",
    "            anded.append(self.state[i] and self.poly[i])\n",
    "        self.feedback = reduce(xor, anded)\n",
    "        self.output = self.state[0]\n",
    "        self.state.pop(0)\n",
    "        self.state.append(self.feedback)\n",
    "        return self.output\n",
    "\n",
    "    def run_steps(self, N=1):\n",
    "        '''Runs the LFSR for N steps and returns a list of the output bits'''\n",
    "        list_of_bool = []\n",
    "        for i in range(N):\n",
    "            list_of_bool.append(self.__next__())\n",
    "        return list_of_bool\n",
    "\n",
    "    def cycle(self, state=None):\n",
    "        '''Runs the LFSR for a full cycle and returns the output bits.'''\n",
    "        if state is not None: #uses a new state if provided\n",
    "            self.state = state\n",
    "        return self.run_steps(N=2**self.length - 1) #length of full cycle\n",
    "\n",
    "    def __str__(self):\n",
    "        string = ''\n",
    "        for b in islice(self, 8):\n",
    "            string += str(self.state) + '\\n'\n",
    "        return string.rstrip()\n"
   ]
  },
  {
   "attachments": {},
   "cell_type": "markdown",
   "id": "6650f4d7",
   "metadata": {},
   "source": [
    "### Testing of LFSR\n",
    "\n",
    "The testing should check different scenarios, such as the three mentioned under, to verify that the code works as expected."
   ]
  },
  {
   "attachments": {},
   "cell_type": "markdown",
   "id": "c3e0572d",
   "metadata": {},
   "source": [
    "Prove class functionality (test every method) in these three cases:\n",
    "- `poly = [3, 1, 0]` and `state = 6` (`0b110`)\n",
    "- `poly = [5, 2, 1, 0]` and `state = 5` (`0b00101`)\n",
    "- `poly = [9, 5, 0]` and `state = 511` (`0b111111111`)`\n"
   ]
  },
  {
   "cell_type": "code",
   "execution_count": 218,
   "id": "d6ab839b",
   "metadata": {},
   "outputs": [
    {
     "name": "stdout",
     "output_type": "stream",
     "text": [
      "[1, 0, 1]\n",
      " [0, 1, 0]\n",
      " [1, 0, 0]\n",
      " [0, 0, 1]\n",
      " [0, 1, 1]\n",
      " [1, 1, 1]\n",
      " [1, 1, 0]\n",
      " [1, 0, 1]\n"
     ]
    }
   ],
   "source": [
    "lfsr_1 = LFSR([3, 1, 0], state=6)\n",
    "print(lfsr_1)\n",
    "\n",
    "lfsr_2 = LFSR([5, 2, 1, 0], state=5)\n",
    "print(lfsr_2)\n",
    "\n",
    "lfsr_3 = LFSR([9, 5, 0], state=511)\n",
    "print(lfsr_3)\n",
    "\n",
    "#the code runs, and more testing is done when testing BM\n"
   ]
  },
  {
   "attachments": {},
   "cell_type": "markdown",
   "id": "ccf00a77",
   "metadata": {},
   "source": [
    "## Berlekamp Massey\n"
   ]
  },
  {
   "attachments": {},
   "cell_type": "markdown",
   "id": "39fa62cf",
   "metadata": {},
   "source": [
    "### Berlekamp Massey (BM) algorithm \n",
    "\n",
    "The Berlekamp-Massey algorithm is a technique that can identify the most compact LFSR capable of generating a given binary sequence. This approach takes a binary sequence as input and generates a feedback polynomial as output that describes the shortest possible LFSR that can produce the input sequence."
   ]
  },
  {
   "cell_type": "code",
   "execution_count": 199,
   "id": "a3af3407",
   "metadata": {},
   "outputs": [],
   "source": [
    "def berlekamp_massey(bits):\n",
    "  N = len(bits)\n",
    "  P = [0 for i in range(N)]\n",
    "  P[N-1] = 1\n",
    "  m = 0\n",
    "  Q = [0 for i in range(N)]\n",
    "  Q[N-1] = 1 \n",
    "  r = 1\n",
    "\n",
    "  for t in range(N):\n",
    "    anded = []\n",
    "    x_r = [0 for i in range(N)]\n",
    "\n",
    "    #check negative indexing\n",
    "    for j in range(m+1):\n",
    "\n",
    "      P_inverted = P[::-1]\n",
    "      anded.append(P_inverted[j] and bits[t-j])\n",
    "      d = reduce(xor, np.array(anded))\n",
    "\n",
    "    if d == 1: \n",
    "      if 2 * m <= t:\n",
    "        R = P\n",
    "        x_r[N-r-1] = 1\n",
    "        Qx_r = bin_to_int(Q) * bin_to_int(x_r)\n",
    "        P_int = bin_to_int(P)\n",
    "        P_int = np.bitwise_xor(P_int, Qx_r)\n",
    "\n",
    "        P = int_to_bin(P_int, N)\n",
    "        Q = R\n",
    "        m = t + 1 - m\n",
    "        r = 0\n",
    "      else: \n",
    "        x_r[N-r-1] = 1\n",
    "        Qx_r = bin_to_int(Q) * bin_to_int(x_r)\n",
    "        P_int = bin_to_int(P)\n",
    "        P_int = np.bitwise_xor(P_int, Qx_r)\n",
    "\n",
    "        P = int_to_bin(P_int, N)\n",
    "\n",
    "    r = r + 1\n",
    "\n",
    "  return P[::-1][:m+1]\n",
    "\n",
    "def print_poly(polynomial): \n",
    "      '''Helping function to make it look'''\n",
    "    if polynomial[0] == 1:\n",
    "        result = '1 + '\n",
    "    else: \n",
    "        result = ''\n",
    "    for idx,i in enumerate(polynomial[1:]):\n",
    "        if i == 1: \n",
    "            result += 'x^{}'.format(idx+1)\n",
    "            if idx != (len(polynomial)-2):\n",
    "                result += ' + '\n",
    "    return result"
   ]
  },
  {
   "attachments": {},
   "cell_type": "markdown",
   "id": "d38f79e8",
   "metadata": {},
   "source": [
    "### testing\n"
   ]
  },
  {
   "attachments": {},
   "cell_type": "markdown",
   "id": "e5c770fa",
   "metadata": {},
   "source": [
    "### Testing BM \n",
    "\n",
    "For testing, we first compute the LFSR, and use at least one cycle. When we put the bitstream back, it is expected that the same polynomial is returned."
   ]
  },
  {
   "attachments": {},
   "cell_type": "markdown",
   "id": "3f8b5158",
   "metadata": {},
   "source": [
    "Prove its functionality in these three cases, using the already defined LFSR class:\n",
    "- `poly = [3, 1, 0]` and `state = 6` (`0b110`)\n",
    "- `poly = [5, 2, 1, 0]` and `state = 5` (`0b00101`)\n",
    "- `poly = [9, 5, 0]` and `state = 511` (`0b111111111`)`\n"
   ]
  },
  {
   "cell_type": "code",
   "execution_count": 200,
   "id": "f744678b",
   "metadata": {},
   "outputs": [
    {
     "name": "stdout",
     "output_type": "stream",
     "text": [
      "[1, 1, 0, 1, 0, 0, 1]\n",
      "Shortest LFSR: 1 + x^1 + x^3\n",
      "\n",
      "[1, 1, 1, 1, 1, 1, 1, 1, 1, 1, 1, 1, 1, 1, 1, 1, 1, 1, 1, 1, 1, 1, 1, 1, 1, 1, 1, 1, 1, 1, 1]\n",
      "Shortest LFSR: 1 + x^1\n",
      "\n",
      "[1, 1, 1, 1, 1, 1, 1, 1, 1, 0, 0, 0, 0, 0, 1, 1, 1, 1, 0, 1, 1, 1, 1, 1, 0, 0, 0, 1, 0, 1, 1, 1, 0, 0, 1, 1, 0, 0, 1, 0, 0, 0, 0, 0, 1, 0, 0, 1, 0, 1, 0, 0, 1, 1, 1, 0, 1, 1, 0, 1, 0, 0, 0, 1, 1, 1, 1, 0, 0, 1, 1, 1, 1, 1, 0, 0, 1, 1, 0, 1, 1, 0, 0, 0, 1, 0, 1, 0, 1, 0, 0, 1, 0, 0, 0, 1, 1, 1, 0, 0, 0, 1, 1, 0, 1, 1, 0, 1, 0, 1, 0, 1, 1, 1, 0, 0, 0, 1, 0, 0, 1, 1, 0, 0, 0, 1, 0, 0, 0, 1, 0, 0, 0, 0, 0, 0, 0, 0, 1, 0, 0, 0, 0, 1, 0, 0, 0, 1, 1, 0, 0, 0, 0, 1, 0, 0, 1, 1, 1, 0, 0, 1, 0, 1, 0, 1, 0, 1, 1, 0, 0, 0, 0, 1, 1, 0, 1, 1, 1, 1, 0, 1, 0, 0, 1, 1, 0, 1, 1, 1, 0, 0, 1, 0, 0, 0, 1, 0, 1, 0, 0, 0, 0, 1, 0, 1, 0, 1, 1, 0, 1, 0, 0, 1, 1, 1, 1, 1, 1, 0, 1, 1, 0, 0, 1, 0, 0, 1, 0, 0, 1, 0, 1, 1, 0, 1, 1, 1, 1, 1, 1, 0, 0, 1, 0, 0, 1, 1, 0, 1, 0, 1, 0, 0, 1, 1, 0, 0, 1, 1, 0, 0, 0, 0, 0, 0, 0, 1, 1, 0, 0, 0, 1, 1, 0, 0, 1, 0, 1, 0, 0, 0, 1, 1, 0, 1, 0, 0, 1, 0, 1, 1, 1, 1, 1, 1, 1, 0, 1, 0, 0, 0, 1, 0, 1, 1, 0, 0, 0, 1, 1, 1, 0, 1, 0, 1, 1, 0, 0, 1, 0, 1, 1, 0, 0, 1, 1, 1, 1, 0, 0, 0, 1, 1, 1, 1, 1, 0, 1, 1, 1, 0, 1, 0, 0, 0, 0, 0, 1, 1, 0, 1, 0, 1, 1, 0, 1, 1, 0, 1, 1, 1, 0, 1, 1, 0, 0, 0, 0, 0, 1, 0, 1, 1, 0, 1, 0, 1, 1, 1, 1, 1, 0, 1, 0, 1, 0, 1, 0, 1, 0, 0, 0, 0, 0, 0, 1, 0, 1, 0, 0, 1, 0, 1, 0, 1, 1, 1, 1, 0, 0, 1, 0, 1, 1, 1, 0, 1, 1, 1, 0, 0, 0, 0, 0, 0, 1, 1, 1, 0, 0, 1, 1, 1, 0, 1, 0, 0, 1, 0, 0, 1, 1, 1, 1, 0, 1, 0, 1, 1, 1, 0, 1, 0, 1, 0, 0, 0, 1, 0, 0, 1, 0, 0, 0, 0, 1, 1, 0, 0, 1, 1, 1, 0, 0, 0, 0, 1, 0, 1, 1, 1, 1, 0, 1, 1, 0, 1, 1, 0, 0, 1, 1, 0, 1, 0, 0, 0, 0, 1, 1, 1, 0, 1, 1, 1, 1, 0, 0, 0, 0]\n",
      "Shortest LFSR: 1 + x^5 + x^9\n",
      "\n"
     ]
    }
   ],
   "source": [
    "lfsr_1 = LFSR([3, 1, 0], state=6)\n",
    "bitstream_1 = lfsr_1.cycle()\n",
    "print(bitstream_1)\n",
    "bm_poly1 = berlekamp_massey(bitstream_1)\n",
    "print(f\"Shortest LFSR: {print_poly(bm_poly1)}\\n\")\n",
    "\n",
    "lfsr_2 = LFSR([5, 2, 1, 0], state=5)\n",
    "bitstream_2 = lfsr_2.cycle()\n",
    "print(bitstream_2)\n",
    "bm_poly2 = berlekamp_massey(bitstream_2)\n",
    "print(f\"Shortest LFSR: {print_poly(bm_poly2)}\\n\")\n",
    "#this one returns a shorter one, not sure why\n",
    "\n",
    "lfsr_3 = LFSR([9, 5, 0], state=511)\n",
    "bitstream_3 = lfsr_3.cycle()\n",
    "print(bitstream_3)\n",
    "bm_poly3 = berlekamp_massey(bitstream_3)\n",
    "print(f\"Shortest LFSR: {print_poly(bm_poly3)}\\n\")"
   ]
  },
  {
   "attachments": {},
   "cell_type": "markdown",
   "id": "639f3716",
   "metadata": {},
   "source": [
    "Given the following key stream `keystream`, generated by an LFSR, apply the Berlekamp-Massey Algorithm to discover the structure (in particular, the polynomial) of the LFSR.\n"
   ]
  },
  {
   "cell_type": "code",
   "execution_count": 103,
   "id": "094ea317",
   "metadata": {},
   "outputs": [
    {
     "name": "stdout",
     "output_type": "stream",
     "text": [
      "1 + x^1 + x^6\n"
     ]
    }
   ],
   "source": [
    "keystream = b\"\\xfa\\xb3v\\x93\\x8b\\xca0\\x83\"\n",
    "\n",
    "# Convert keystream in a list of bits here:\n",
    "def keystream_to_bits(keystream):\n",
    "    bits = []\n",
    "    for byte in keystream:\n",
    "        bits.extend([int(bit) for bit in bin(byte)[2:].zfill(8)])\n",
    "    return bits\n",
    "\n",
    "# Run BM here:\n",
    "bits = keystream_to_bits(keystream)\n",
    "bm_poly = berlekamp_massey(bits)\n",
    "print(print_poly(bm_poly))\n"
   ]
  },
  {
   "attachments": {},
   "cell_type": "markdown",
   "id": "8c64e933",
   "metadata": {},
   "source": [
    "## LFSR-based Generator\n"
   ]
  },
  {
   "attachments": {},
   "cell_type": "markdown",
   "id": "7c8c4955",
   "metadata": {},
   "source": [
    "### the Alternating Step Generator\n",
    "\n",
    "It alternates between different LFSR, which already are random, to make it even more secure. It uses a clock, which is either high or low, to controll the different LFSRs. \n"
   ]
  },
  {
   "attachments": {},
   "cell_type": "markdown",
   "id": "3d1122c9",
   "metadata": {},
   "source": [
    "- `poly0 = [5, 2, 0]`\n",
    "- `poly1 = [3, 1, 0]`\n",
    "- `polyC = [2, 1, 0]`\n"
   ]
  },
  {
   "cell_type": "code",
   "execution_count": 169,
   "id": "0afafd44",
   "metadata": {},
   "outputs": [],
   "source": [
    "class AlternatingStepGenerator:\n",
    "    ''' Generates bits using an alternating step generator (ASG) with LFSRs '''\n",
    "    \n",
    "    def __init__(self, seed):\n",
    "        ''' Initializes the ASG with the given seed '''\n",
    "        \n",
    "        if seed == 0:\n",
    "            raise ValueError(\"Seed value cannot be zero.\")\n",
    "        \n",
    "        # Initialize the LFSRs, hardcoded \n",
    "        self.lfsr_c = LFSR([2, 1, 0], seed)\n",
    "        self.lfsr_0 = LFSR([5, 2, 0], seed)\n",
    "        self.lfsr_1 = LFSR([2, 1, 0], seed)\n",
    "\n",
    "        #so they will have a start value\n",
    "        self.clock_output = next(self.lfsr_c)\n",
    "        self.lfsr0_output = next(self.lfsr_0)\n",
    "        self.lfsr1_output = next(self.lfsr_1)\n",
    "        \n",
    "        \n",
    "    def __iter__(self):\n",
    "        return self\n",
    "    \n",
    "    def __next__(self):\n",
    "        ''' Generates the next bit in the ASG '''\n",
    "        self.clock_output = next(self.lfsr_c)\n",
    "        if self.clock_output == 0:\n",
    "            self.lfsr0_output = next(self.lfsr_0)\n",
    "        else:\n",
    "            self.lfsr1_output = next(self.lfsr_1)\n",
    "        output = self.lfsr0_output^self.lfsr1_output\n",
    "        return output\n",
    "        \n",
    "\n"
   ]
  },
  {
   "cell_type": "code",
   "execution_count": 170,
   "id": "5851d87a",
   "metadata": {},
   "outputs": [
    {
     "name": "stdout",
     "output_type": "stream",
     "text": [
      "[0, 1, 0, 0, 0, 0, 0, 0, 1, 1, 0, 1, 1, 0, 1, 0, 0, 0, 0, 1, 0, 1, 1, 0, 1, 0, 0, 1, 0, 0, 0, 1, 0, 0, 0, 0, 1, 0, 1, 1, 0, 0, 1, 1, 0, 0, 1, 0, 1, 0, 1, 0, 0, 0, 0, 0, 1, 0, 0, 1, 0, 0, 1, 0, 1, 1, 1, 1, 1, 0, 1, 1, 0, 1, 1, 1, 0, 0, 0, 0, 1, 1, 0, 0, 0, 1, 0, 1, 0, 0, 0, 1, 1, 0, 0, 1, 0, 1, 1, 0, 1, 1, 0, 1, 1, 1, 0, 0, 1, 1, 1, 0, 1, 0, 0, 0, 1, 0, 1, 0, 0, 1, 0, 1, 1, 0, 0, 0, 0, 1, 0, 1, 1, 1, 0, 1, 0, 1, 1, 1, 1, 1, 0, 0, 1, 1, 0, 0, 1, 0, 0, 0, 0, 0, 1, 0, 0, 1, 1, 0, 1, 1, 0, 0, 0, 1, 0, 1, 0, 0, 1, 0, 0, 1, 0, 1, 1, 1, 0, 0, 0, 0, 0, 1, 0, 1, 0, 1, 1, 0, 0, 1, 1, 0, 1, 0, 0, 1, 0, 0, 0, 1, 1, 0, 1, 1, 0, 0, 1, 0, 0, 1, 1, 1, 1, 0, 1, 1, 1, 0, 1, 1, 1, 0, 0, 0, 0, 1, 0, 0, 0, 1, 0, 1, 0, 0, 1, 1, 0, 0, 1, 1, 0, 0, 1, 0, 1, 0, 0, 1, 1, 1, 1, 0, 0, 1, 1, 0, 1, 0, 1, 1, 1, 0, 1, 0, 1, 1, 0, 1, 1, 1, 0, 1, 1, 1, 0, 1, 1, 1, 0, 1, 0, 1, 1, 1, 1, 0, 0, 1, 1, 1, 1, 0, 0, 1, 0, 0, 0, 1, 1, 1, 0, 0, 1, 0, 0, 1, 0, 1, 1, 1, 0, 1, 0, 0, 0, 1, 0, 1, 0, 1, 1, 1, 1, 0, 0, 0, 0, 1, 0, 1, 0, 1, 0, 0, 1, 1, 0, 0, 1, 1, 0, 0, 1, 0, 0, 1, 0, 0, 0, 1, 1, 0, 1, 1, 0, 0, 1, 1, 1, 0, 0, 1, 1, 1, 0, 1, 1, 1, 0, 1, 1, 1, 0, 0, 1, 1, 1, 0, 1, 0, 1, 0, 0, 1, 1, 0, 0, 0, 1, 0, 1, 0, 1, 1, 1, 1, 1, 1, 0, 0, 1, 0, 1, 0, 1, 0, 0, 0, 1, 0, 1, 1, 1, 0, 1, 1, 0, 1, 0, 0, 0, 1, 1, 0, 0, 0, 1, 0, 1, 1, 0, 0, 0, 0, 1, 1, 1, 1, 0, 0, 1, 0, 0, 1, 1, 1, 0, 1, 1, 0, 0, 1, 0, 1, 0, 0, 0, 1, 1, 0, 1, 1, 0, 1, 0, 0, 1, 1, 1, 1, 0, 0, 1, 1, 0, 1, 0, 1, 0, 1, 1, 0, 0, 1, 1, 1, 1, 0, 1, 0, 1, 1, 0, 0, 0, 1, 0, 0, 1, 1, 1, 0, 1, 0, 0, 0, 0, 0, 1, 1, 1, 0, 1, 1, 0, 1, 1, 1, 1, 0, 1, 1, 1, 0, 1, 0, 1, 0, 1, 1, 1, 1, 0, 0, 1, 0, 1, 1, 0, 1, 1, 1, 1, 1, 0, 1, 1, 0, 1, 0, 1, 0, 1, 1, 1, 0, 0, 1, 1, 1, 0, 1, 0, 1, 0, 0, 0, 0, 1, 0, 0, 0, 0, 1, 0, 1, 0, 0, 0, 0, 0, 1, 1, 1, 1, 0, 1, 0, 1, 1, 1, 0, 0, 0, 1, 1, 0, 1, 0, 1, 0, 1, 1, 1, 1, 0, 1, 0, 0, 1, 0, 0, 0, 1, 1, 1, 1, 0, 1, 0, 0, 1, 0, 1, 0, 1, 0, 0, 0, 0, 1, 1, 1, 0, 1, 0, 1, 0, 0, 0, 1, 1, 1, 0, 0, 1, 1, 0, 1, 1, 0, 0, 0, 0, 0, 1, 1, 1, 0, 1, 0, 0, 1, 0, 0, 0, 1, 1, 0, 0, 1, 0, 1, 0, 1, 1, 1, 0, 0, 1, 1, 0, 0, 1, 1, 0, 1, 1, 1, 0, 0, 1, 0, 0, 1, 0, 1, 0, 1, 0, 0, 0, 0, 0, 1, 0, 0, 1, 0, 1, 1, 0, 1, 1, 1, 0, 0, 0, 0, 1, 0, 1, 0, 0, 0, 0, 0, 0, 1, 1, 1, 0, 1, 1, 0, 1, 1, 0, 0, 0, 1, 0, 0, 1, 0, 1, 0, 0, 1, 1, 1, 0, 1, 0, 0, 0, 1, 0, 0, 0, 1, 0, 0, 0, 1, 0, 1, 1, 0, 1, 0, 1, 0, 0, 0, 0, 0, 1, 1, 0, 1, 0, 0, 1, 0, 0, 1, 1, 1, 1, 0, 0, 1, 0, 0, 1, 1, 0, 0, 0, 0, 0, 1, 0, 0, 1, 0, 0, 1, 0, 0, 0, 0, 1, 0, 1, 1, 0, 1, 0, 1, 1, 0, 0, 1, 1, 0, 0, 0, 0, 1, 1, 0, 1, 1, 0, 1, 1, 0, 1, 1, 0, 1, 0, 1, 1, 0, 0, 0, 0, 1, 0, 1, 1, 0, 1, 1, 0, 1, 1, 1, 1, 0, 0, 1, 1, 1, 0, 1, 0, 0, 0, 0, 0, 0, 1, 1, 0, 0, 1, 0, 1, 0, 0, 0, 1, 1, 0, 1, 1, 0, 1, 1, 0, 1, 0, 0, 0, 1, 1, 0, 0, 0, 1, 0, 0, 1, 0, 1, 1, 1, 0, 1, 0, 0, 1, 0, 1, 0, 0, 0, 0, 1, 1, 0, 0, 1, 1, 0, 1, 0, 1, 1, 1, 1, 1, 0, 1, 1, 0, 0, 0, 1, 1, 0, 0, 0, 0, 1, 0, 0, 0, 1, 0, 1, 1, 0, 1, 1, 1, 0, 1, 0, 0, 0, 1, 0, 1, 0, 1, 1, 1, 1, 0, 0, 0, 0, 1, 0, 1, 0, 0, 1, 0, 0, 1, 0, 0, 1, 0, 0, 1, 1, 0, 0, 0, 1, 0]\n"
     ]
    }
   ],
   "source": [
    "asg = AlternatingStepGenerator(seed=5)\n",
    "bits = [next(asg) for _ in range(1000)]\n",
    "print(bits)"
   ]
  },
  {
   "attachments": {},
   "cell_type": "markdown",
   "id": "7edba82b",
   "metadata": {},
   "source": [
    "Compute the Linear complexity of the generated sequence."
   ]
  },
  {
   "cell_type": "code",
   "execution_count": 172,
   "id": "b87719ed",
   "metadata": {},
   "outputs": [
    {
     "name": "stdout",
     "output_type": "stream",
     "text": [
      "The linear complexity of the generated sequence is 51.\n"
     ]
    }
   ],
   "source": [
    "# Generate a sequence of 1000 bits using the ASG\n",
    "asg = AlternatingStepGenerator(seed=5)\n",
    "seq = [next(asg) for i in range(100)]\n",
    "\n",
    "# Compute the linear complexity of the generated sequence using the Berlekamp-Massey algorithm\n",
    "coeffs = berlekamp_massey(seq)\n",
    "linear_complexity = len(coeffs)\n",
    "\n",
    "print(f\"The linear complexity of the generated sequence is {linear_complexity}.\")"
   ]
  },
  {
   "attachments": {},
   "cell_type": "markdown",
   "id": "d24d8cf7",
   "metadata": {
    "tags": []
   },
   "source": [
    "### testing\n"
   ]
  },
  {
   "attachments": {},
   "cell_type": "markdown",
   "id": "1e4c7b08",
   "metadata": {},
   "source": [
    "### ASG as stream cipher\n",
    "\n",
    "The Alternating Step Generator (ASG) can be employed to build a stream cipher by generating a stream of key bits, which can be XORed with the plaintext to generate the ciphertext. The basic idea is to use the ASG to produce a pseudorandom sequence of bits that are unpredictable to an attacker, and then use this sequence of bits as a keystream to encrypt the plaintext\n"
   ]
  },
  {
   "attachments": {},
   "cell_type": "markdown",
   "id": "a55e94d9",
   "metadata": {},
   "source": [
    "Given the key `key`, decrypt the ciphertext `ciphertext`.\n"
   ]
  },
  {
   "cell_type": "code",
   "execution_count": 173,
   "id": "53e3d0cb",
   "metadata": {},
   "outputs": [],
   "source": [
    "key = 0x3FF # integer value\n",
    "ciphertext = (\n",
    "    b'Y\\xea\\xfc\\xc2\\x8c\\x17p{\\x1f8\\xbf,N\\\\\\xf8\\x97\\xeb\\x99#\\'#\\xf3\\x1cY\\xfd'\n",
    "    b'\\x82\\xe9\\xbe\\xc2\\xeb\\x16H\\xd0Q\\xd5\\xa8Y\\x8e\\x8b\\\\\\xeb\\x8d\\xe1\\xea\\xf5'\n",
    "    b'\\x83\\xb0\\xe7\\xee\\xf2\\\\\\xear\\x848l\\xe2\\xb2\\x06ov%\\xdb\\x08\\x13\\xf2qy\\xf6'\n",
    "    b'}\\xfdO\\xebG{\\xaa\\xaf\\xbaP\\xc1\\x98c\\x19\\xdc5\\xf3\\x00P_\\x0e\\x8b\\xe9\\xa5$'\n",
    "    b'\\xaf,7\\x99G\\xe5\\x89f\\xd5o\\xd9s\\xd4\\x10;\\xf4\\x10\\x1a\\x84]\\xf6>\\xd9J\\x86'\n",
    "    b'\\xb2/%\\x86\\x92\\xdc3f\\x1d\\x15\\xa0\\xa7K1*\\xa0\\xaa\\x88+x\\xb9\\xa9#Ie)\\xf97'\n",
    "    b'\\x05\\xf1\\x1b\\x02~\\xeac\\xd0\\xeb\\x0bv+\\xd2Y\\xb1\\xbd\\x1d6!\\xde\\xd9\\x9de'\n",
    "    b'\\x05\\xb3\\xf30\\x14\\xfd\\xa7s\\xa9\\xce\\xad]\\x01W\\x0b\\x9a\\xb6\\x03\\x8e^J\\xbf'\n",
    "    b'\\x01\\xe4\\xb6\\xa0\\x83\\xbej\\xb6\\xda\\xca\\xa3J\\xd78~1\\xaf/t\\x1eL\\x93\\x19J'\n",
    "    b'\\xb18Bm\\x7f\\xddZ\\xa8L\\xbd\\xb1\\x84,\\x04\\xc7\\x0b,\\x11\\xce}\\xed\\x06\\x06XZ'\n",
    "    b'\\xaf\\xcf\\xaa-\\xaf\\xad\"\\x87\\xd3\\xf8\\xc2\\xf7\\xd3\\x1bM}\\xb9\\x00)\\xb1\\x9a'\n",
    "    b'\\x06\\xcdU\\xedV\\xd7\\x03\\x90\\xed;>\\xc5\\xd7\\xff\\xa0qZ\\x94\\xf3\\xb6\\x1b9v'\n",
    "    b'\\xfa\\xfa\\xf1x}\\xd9\\xf3\\x7fm\\xe4 \\xe0\"G\\xe0O*C%p\\xd7yYS&\\xd9{\\xec\\xe9'\n",
    "    b'=46\\xfbH\\xcc#\\x0f\\xe8\\xf78H\\xcc *\\xb8\\xd8\\xe35\\xda\\x03>\\xc5\\xf0\\x1a'\n",
    "    b'OCZ\\xfc\\x11\\xbd\\xf7\\xb0\\xc9\\xb2!\\xfe\\xd8\\xc7\\x8e\\x1c\\xc3:\\x7fb\\xdd9wZ'\n",
    "    b'\\xad\\xca\\\\\\x83\\xf9>Fx\\x1dQ\\x1d\\x9a\\x92\\xdb\\xc1\\x8b+\\x19\\xdfDK\\x93\\xd7M'\n",
    "    b'\\xe7Cg\\xdbP\\xa6\\x99\\xe5`\\xae\\xed6E\\xcf\\xe3\\xc2\\xb5\\xee\\x80\\x14D+@5\\xb2'\n",
    "    b'\\xde\\x02\\xdb\\x01\\x9b\\xd9\\x90<\\x00\\xe6\\n=\\x98\\xf6\\xe9\\xb7\\x14\\x93\\x95'\n",
    "    b'\\xc8\\xf7YX!\\xe2\\x830<q\\x9b\\xed\\x034\\xa0\\x0c|(\\x05%h3\\x87dN\\x160zN\\''\n",
    "    b'\\x8ev\\xe4\\xe0\\xb0q\\x02\\xb1\\x10\\xa0\\x90\\x06\\xf42SSV4nl\\xf4\\xd8\\xe1\\xc3S'\n",
    "    b'?\\x89\\xe5\\x80\\x11X\\x1f\\xfe-\"\\xed\\xb4D\\xb6a\\xa3\\xdd\\xc8\\xca\\t\\xfcrg\\x0e'\n",
    "    b'\\xfa|X\\x16\\x82\\xc2\\xdb\\x86\\xfd=\\x07cK\\x15?\\x98\\xd3\\xf8\\xda\\xcb\\x0c\\x0e'\n",
    "    b'\\x84\\\\\\x9c\\x84\\x87\\xd1\\xa5P\\xab\\xcd;'\n",
    ")\n"
   ]
  },
  {
   "cell_type": "code",
   "execution_count": 175,
   "id": "815ca4ba",
   "metadata": {},
   "outputs": [
    {
     "name": "stdout",
     "output_type": "stream",
     "text": [
      "bytearray(b'Y\\xea\\xfc\\xc2\\x8c\\x17p{\\x1f8\\xbf,N\\\\\\xf8\\x97\\xeb\\x99\"\\'#\\xf3\\x1cY\\xfd\\x82\\xe8\\xbf\\xc3\\xea\\x17H\\xd0Q\\xd5\\xa9X\\x8f\\x8a]\\xea\\x8c\\xe0\\xea\\xf4\\x82\\xb1\\xe6\\xef\\xf3]\\xear\\x849l\\xe3\\xb3\\x06nw$\\xda\\t\\x12\\xf3qy\\xf6}\\xfdN\\xeaFz\\xaa\\xaf\\xbaQ\\xc1\\x98c\\x18\\xdd4\\xf2\\x01Q^\\x0f\\x8b\\xe9\\xa5%\\xaf-7\\x99F\\xe5\\x88f\\xd5n\\xd9r\\xd5\\x11;\\xf4\\x10\\x1b\\x84]\\xf7>\\xd9J\\x86\\xb2.%\\x87\\x93\\xdd2g\\x1c\\x14\\xa1\\xa7K1*\\xa0\\xaa\\x88+x\\xb8\\xa9\"Ie)\\xf97\\x04\\xf0\\x1a\\x02~\\xeac\\xd1\\xea\\x0bw*\\xd3Y\\xb1\\xbc\\x1d6 \\xdf\\xd8\\x9dd\\x04\\xb3\\xf21\\x14\\xfc\\xa6r\\xa9\\xce\\xac\\\\\\x01V\\n\\x9a\\xb6\\x02\\x8e^K\\xbe\\x00\\xe4\\xb7\\xa1\\x82\\xbej\\xb7\\xda\\xcb\\xa2K\\xd69\\x7f0\\xaf.u\\x1fL\\x92\\x19K\\xb19Bl~\\xddZ\\xa8L\\xbd\\xb1\\x84,\\x05\\xc6\\n-\\x11\\xce}\\xec\\x07\\x07X[\\xae\\xcf\\xab,\\xae\\xac#\\x87\\xd3\\xf9\\xc3\\xf7\\xd2\\x1bL}\\xb9\\x01(\\xb1\\x9a\\x07\\xccT\\xecV\\xd6\\x03\\x90\\xec;>\\xc5\\xd6\\xff\\xa0qZ\\x94\\xf3\\xb6\\x1a9w\\xfb\\xfb\\xf0x}\\xd9\\xf2\\x7fm\\xe5 \\xe0\"G\\xe0N+B$q\\xd7xYS&\\xd9z\\xec\\xe9<56\\xfaH\\xcc\"\\x0e\\xe8\\xf78I\\xcc!*\\xb8\\xd9\\xe24\\xdb\\x03?\\xc5\\xf0\\x1bOBZ\\xfd\\x11\\xbc\\xf6\\xb0\\xc9\\xb2 \\xfe\\xd9\\xc7\\x8f\\x1c\\xc3:\\x7fb\\xdc8v[\\xac\\xcb\\\\\\x82\\xf8>Fy\\x1cP\\x1c\\x9b\\x93\\xdb\\xc0\\x8b+\\x19\\xdfDJ\\x93\\xd7L\\xe7Cg\\xdaP\\xa7\\x98\\xe5`\\xae\\xed7D\\xce\\xe2\\xc2\\xb5\\xee\\x81\\x15E+@5\\xb2\\xde\\x02\\xda\\x00\\x9b\\xd8\\x91=\\x01\\xe6\\x0b=\\x98\\xf7\\xe8\\xb6\\x15\\x93\\x95\\xc9\\xf7XX!\\xe3\\x820<q\\x9b\\xed\\x034\\xa0\\x0c|)\\x05%i3\\x86dO\\x160{O&\\x8ew\\xe4\\xe1\\xb1q\\x02\\xb1\\x11\\xa0\\x91\\x06\\xf52RSW5om\\xf5\\xd8\\xe1\\xc3S>\\x88\\xe5\\x80\\x11X\\x1e\\xff,#\\xec\\xb4D\\xb7a\\xa3\\xdd\\xc8\\xcb\\t\\xfcsg\\x0f\\xfa|Y\\x17\\x82\\xc3\\xdb\\x86\\xfd<\\x07cK\\x14>\\x99\\xd2\\xf9\\xdb\\xcb\\x0c\\x0f\\x85\\\\\\x9d\\x85\\x87\\xd1\\xa4P\\xab\\xcc:')\n"
     ]
    }
   ],
   "source": [
    "def asg_decrypt(key, ciphertext):\n",
    "    asg = AlternatingStepGenerator(key)\n",
    "    plaintext = bytearray()\n",
    "    for byte in ciphertext:\n",
    "        plaintext.append(byte ^ next(asg))\n",
    "    return plaintext\n",
    "\n",
    "print(asg_decrypt(key=key, ciphertext=ciphertext))\n",
    "\n",
    "#didnt manage to do this:/"
   ]
  },
  {
   "cell_type": "code",
   "execution_count": 165,
   "metadata": {},
   "outputs": [
    {
     "name": "stdout",
     "output_type": "stream",
     "text": [
      "b'\\xaf\\x16sE\\xab\\x07\\x7fC\\xf2\\xf7{#\\xb0\\xbc\\x86\\xe6\\xf3\\x0b\\x1a\\xe0\\xdf\\x858\\xb6J\\xa5\\x987\"j\\xd8W\\xb3\\xa9\\xf6\\xd7\\xa8\\x95\\x15R\\xef\\x10\\x90\\x15z\\x02\\x8f\\x9af\\x0b\\xbd\\x92w\\xe6\\xf7\\x94\\x9d\\xf3\\xdc\\x91x\\xe2J\\xc84|F\\x9e\\x86s\\x07\\xae\\x95Zu\\xe3\\x96\\xc8\\xa6\\xdb\\x0b\\\\\\xc6M\\xc5\\x17\\xe3P\\xb8\\x132\\x10$\\xdbs\"\\xf9\\xbaT\\xa3\\x91\\x99[\\xaaE\\x850\\xfe\\x0b\\xc9\\x00\"f\\xb0\\x89;\\xb7\\xb5\\xa5\\xc1\\xee\\xe4\\x15\\x1d\\xc3\\xc2\\x97;\\xfb\\x10\\x99W>\\n,\\xd2V%\\xb1\\x83\\xd7\\xe3\\x90\\x96\\x10\\xfc\\xc7\\xc2\\r\\xf4\\x03\\x80\\x97l3j\\xc2q%\\xac\\xba\\xc3\\xfa\\xc7\\xc5\\x1e\\xc3E\\xddY\\xe6\\x04\\xcc!*\\x07&\\x8al\\xad\\xe4\\xbf\\x1e\\xa6\\xd3\\x08\\x08\\xdf\\x12\\x99m=\\x07\\xd9\\xcb.b2\\x94s\\xb5\\xb2\\x9bX\\xa7\\xfa\\x81\\x0f\\xab\\xd3\\x838\\xae\\x13\\xfcZ?\\x03\\xa2\\x94x\\xb2\\xa3\\x92S\\xfb\\xb0\\x1a\\x15\\xda[\\xca\\x13\\xfeO\\x80\\x9d?&\\xb9\\x94s\\xa0\\xe3\\xd7\\xd0\\xeb\\xe0\\x15[\\xff_\\x804\\xf9K\\x83\\xc9?\\x11=\\xd2\\x1a\\xae\\xab\\xd6E\\xa1\\xd8\\x02T\\xff\\xce\\x840p\\x11\\x8cJ+\\n;\\xd5?u\\xb5\\xc2\\x8f\\xbe\\xbdFM\\xbb\\x90\\x94\\x1cb\\x13\\xa0\\x9cp\\x0b\\xaf\\xdbv\\xb5\\xb0\\xb8A\\xe0\\xc2\\x88T\\xee\\xc1\\xc5\\tuN\\xe8?6\\x13z\\xf1W\\xa3\\xe9\\xd3\\xcb\\xa8\\xe3\\xc7U\\xde\\xc2\\x85\\x0e\\xf5H\\xa5Ku21\\x88v\\xaa\\xfc\\xdb\\x8d\\xae\\xdf\\x10\\x14\\xdf\\xcb\\x89\\\\_\\x0e\\x88J\\x15+\\xbd\\xca>1\\xbe\\x80\\x0e\\xa6\\xc5\\x04\\x1c\\xdcQ\\xcd\\x17\\xf6Y\\xa0V,7\\xa1\\x9f^e\\xa3\\xb3\\xd8\\xee\\xe5\\x9f\\x11\\xea\\xc7\\x84+`D\\x8b\\x9f86\\xa9\\xd2_;\\xfd\\xfe\\x1c\\xab\\xdb\\x04Q\\x8f\\xc1\\xc0\\x1a\\xe8\\r\\xbd\\x86gO\\xf8\\xdaK\\xa7\\xb9\\xbaJ\\xe1\\xe1\\x1d\\x0f\\xfa\\x80\\xdd\\x13\\xe0\\x02\\x9d\\x11u\\x11\\xe5\\xdbv0\\xf8\\x9f\\\\\\xe6\\xf0\\x88G\\xe1\\x12\\x86\\x18c\\x07\\x8d\\x1f?3!\\xde\\x1b\\x9a\\xfc\\xb3L\\xa0\\xf5\\x90T\\xe8H\\x91%\\xbc\\x08\\xad\\x99>3\\xb8\\xd7;/\\xec\\xd7\\xc7\\xb4\\xb4\\x9e\\x1b\\xc3U\\x8d-sB\\x98\\x12rF\\xb4\\xde_\\xa0\\xa3\\xa7\\x8f\\xfa\\xde\\x9dC\\xcb\\xc3\\xde4{Z\\xec\\x101f\\xbd\\xd2Z\\xe5\\xaf\\x9dN\\xea\\xd5\\xc8'\n"
     ]
    }
   ],
   "source": [
    "key = 0x3FF\n",
    "asg = AlternatingStepGenerator(key)\n",
    "\n",
    "# Let's generate key stream bytes until we have enough to XOR with the ciphertext\n",
    "keystream = bytes()\n",
    "while len(keystream) < len(ciphertext):\n",
    "    keystream += bytes([next(asg)])\n",
    "\n",
    "# XOR the ciphertext with the keystream to get the plaintext\n",
    "plaintext = bytes([ciphertext[i] ^ keystream[i] for i in range(len(ciphertext))])\n",
    "print(plaintext)"
   ]
  },
  {
   "attachments": {},
   "cell_type": "markdown",
   "id": "70cf7b5e",
   "metadata": {},
   "source": [
    "## RC4\n"
   ]
  },
  {
   "attachments": {},
   "cell_type": "markdown",
   "id": "c1f22b73",
   "metadata": {},
   "source": [
    "### Rivest Cipher 4 (RC4)\n",
    "\n",
    "RC4 is a symmetric key stream cipher algorithm. It operates on a variable-length key and produces a keystream used for encryption and decryption. RC4 generates the keystream by iterating through an internal state that is initialized based on the key. The keystream is generated using a pseudo-random number generator, which generates a sequence of random numbers that are combined with the plaintext using bitwise XOR operation to produce ciphertext. Decryption is achieved by generating the same keystream using the same key and then XORing it with the ciphertext to produce the plaintext."
   ]
  },
  {
   "cell_type": "code",
   "execution_count": 106,
   "id": "768bdbc7",
   "metadata": {},
   "outputs": [],
   "source": [
    "class RC4():\n",
    "    \n",
    "    def __init__(self, seed, drop=0):\n",
    "        ''' Initialize the RC4 cipher with a given seed and drop value '''\n",
    "        self.S = list(range(256))\n",
    "        j = 0\n",
    "        for i in range(256):\n",
    "            j = (j + self.S[i] + seed[i % len(seed)]) % 256\n",
    "            self.S[i], self.S[j] = self.S[j], self.S[i]\n",
    "        self.i = self.j = 0\n",
    "        for _ in range(drop):\n",
    "            self.__next__()\n",
    "\n",
    "    def __iter__(self):\n",
    "        return self\n",
    "    \n",
    "    def __next__(self):\n",
    "        ''' Generate the next byte in the keystream '''\n",
    "        self.i = (self.i + 1) % 256\n",
    "        self.j = (self.j + self.S[self.i]) % 256\n",
    "        self.S[self.i], self.S[self.j] = self.S[self.j], self.S[self.i]\n",
    "        return self.S[(self.S[self.i] + self.S[self.j]) % 256]"
   ]
  },
  {
   "attachments": {},
   "cell_type": "markdown",
   "id": "336e557f",
   "metadata": {
    "tags": []
   },
   "source": [
    "### Testing RCA\n"
   ]
  },
  {
   "attachments": {},
   "cell_type": "markdown",
   "id": "fdcf502c",
   "metadata": {},
   "source": [
    "#### RC4 employed to build a stream cipher\n",
    "\n",
    "RC4 can be employed to build a stream cipher by using its keystream generator. The keystream is generated by the RC4 algorithm, which generates a sequence of pseudo-random bytes based on a secret key. This keystream can then be combined with the plaintext using the XOR operation to produce the ciphertext.\n",
    "\n",
    "To encrypt a message, the sender generates a unique key and initializes the RC4 algorithm with that key. The sender then generates the keystream by repeatedly calling the RC4 algorithm. The keystream is XOR-ed with the plaintext to produce the ciphertext, which is then transmitted to the receiver. The receiver uses the same key to initialize their own RC4 algorithm and generates the same keystream, which is XOR-ed with the ciphertext to recover the plaintext."
   ]
  },
  {
   "attachments": {},
   "cell_type": "markdown",
   "id": "1ebbbff8",
   "metadata": {},
   "source": [
    "Given the key `key`, decrypt the ciphertext `ciphertext`.\n"
   ]
  },
  {
   "cell_type": "code",
   "execution_count": 107,
   "id": "2bd57642",
   "metadata": {},
   "outputs": [],
   "source": [
    "key = b\"0123456789ABCDEF\"  # integer value\n",
    "ciphertext = (\n",
    "    b\"\\x0f\\x9e\\xec\\xc3\\x0f\\xeck\\xa5\\xc9\\xd4\\xd4\\xb81\\xf0\\xd5[\\x93\"\n",
    "    b\"\\xbc\\xdaY^\\x0e\\xc1'\\xdb\\x1eP\\xc0uD\\xeb\\x91E]\\x15\\xcf\\x85\\x07%\"\n",
    "    b\"\\x97\\xffl\\xf1\\xbb\\xe1*\\xa0\\xee\\xd3\\x94\\x17\\xb0|e\\x93h\\xd7\\xc5\"\n",
    "    b\"\\xc3tT\\x84\\xee%\\xcb\\x15\\r\\xc4\\xe8\\n\\xf2\\xd0.\\xec\\xc6\\xe1-\\xb4\"\n",
    "    b\"\\x8b\\x9a\\x14\\x823k\\xab?\\x8b\\x9c\\xaas\\xa1#\\xb8\\xb2\\xceh\\xb5\\x8b\"\n",
    "    b\"'\\x90B}C\\x80~\\x8cr\\xde\\xc9\\xe2\\x17\\xe45\\xb9\\x10\\x94\\xd4\\x0eRJ\"\n",
    "    b\"\\x0fr&\\xe7\\xe3P\\xbfz\\xecIA\\x94\\xe60\\xa8{_\\x03\\xc7\\x91\\xcf\\xc6\"\n",
    "    b\"\\x04\\xfc\\x8d\\x86-E\\x13\\xba\\x13i\\x17;\\xd7\\x8e \\xa5\\xe6\\xa5uR\\n\"\n",
    "    b\"89z\\xe2YZ!e\\x0f,s\\x9a\\xacN\\xab\\xc7\\xcaOO\\x81\\xe06\\x03\\xac7\\x9b\"\n",
    "    b\",%\\xf7\\x9d(\\xde\\x0b\\xc3\\xbf\\xbe7\\xc7<\\xf4r\\x0eLz\\xd8\\xe5b\\xa0n\"\n",
    "    b\"\\x11f\\xfe\\xca+RNnL\\xef+\\x1b\\x1c\\x0b\\x8a\\xb6M\\xbdU\\xd6\\x1c\\x9cn\"\n",
    "    b\"\\t\\x8aX>B9\\xa4\\xf7\\xd7jS\\xa3\\xfd\\xeb=\\xeeY\\xbf\\x8dG\\xab\\xc6\"\n",
    "    b\"\\x08 \\xfba\\x90\\xdbla\\xbf\\xf0\\x9c\\x1a\\xa0\\xcb\\x9a\\x7f\\x88X\\x1dV\"\n",
    "    b\"\\xd2'\\xba\\x1b\\x16l\\xc3vx\\xddqU\\xf72@\\x86>A\\xe6b\\x050Y\\xed\\x8bJ\"\n",
    "    b\"!\\xe0\\x80I\\xa4X\\x9e\\xd6^\\x126\\x99\\x93\\xa3(\\xc5\\xf0\\xbd\\xdei\\xcb\"\n",
    "    b\"\\xdc5\\xf58\\xda\\xa5\\x96\\xb9!5>\\xdbJ\\xd4\\xef\\xe1\\x0e\\xfeo\\x97`\"\n",
    "    b\"\\xd7[\\x18\\t\\xf4/DV\\xdd\\xe8~#\\xbd\\xfd{B\\xacC=\\xa9\\xd5\\xbb\\xdbH\"\n",
    ")\n",
    "drop = 3072\n"
   ]
  },
  {
   "cell_type": "code",
   "execution_count": 108,
   "id": "47405f7a",
   "metadata": {},
   "outputs": [
    {
     "name": "stdout",
     "output_type": "stream",
     "text": [
      "bytearray(b'Hey, Macklemore, can we go thrift shopping?What? What? What? What?\\nWhat? What? What? What?\\nWhat? What? What? What?\\nWhat? What? What? What?\\nWhat? What? What? What?\\nWhat? What? What? What?\\nWhat? What? What? What?\\nWhat? What? What? What?\\nOh!\\nOh!\\nOw!\\nI m gonna pop some keys\\nOnly got 3072 drop in my RC4\\nI m, I m, I m hunting, looking for a come up\\nThis is ******* awesome\\n')\n"
     ]
    }
   ],
   "source": [
    "def rc4_decrypt(key, ciphertext, drop):\n",
    "    rc4 = RC4(key, drop)\n",
    "    plaintext = bytearray()\n",
    "    for byte in ciphertext:\n",
    "        plaintext.append(byte ^ next(rc4))\n",
    "    return plaintext\n",
    "\n",
    "print(rc4_decrypt(key=key, ciphertext=ciphertext, drop=drop))\n"
   ]
  }
 ],
 "metadata": {
  "kernelspec": {
   "display_name": "Python 3 (ipykernel)",
   "language": "python",
   "name": "python3"
  },
  "language_info": {
   "codemirror_mode": {
    "name": "ipython",
    "version": 3
   },
   "file_extension": ".py",
   "mimetype": "text/x-python",
   "name": "python",
   "nbconvert_exporter": "python",
   "pygments_lexer": "ipython3",
   "version": "3.9.7"
  }
 },
 "nbformat": 4,
 "nbformat_minor": 5
}
