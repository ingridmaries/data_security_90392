{
 "cells": [
  {
   "cell_type": "markdown",
   "metadata": {
    "heading_collapsed": "false",
    "toc-hr-collapsed": false
   },
   "source": [
    "## Classes"
   ]
  },
  {
   "cell_type": "markdown",
   "metadata": {
    "heading_collapsed": "false"
   },
   "source": [
    "**Classes** are objects that provide a means of bundling **data and functionality** together. \n",
    "Control flows, `with` statements, exception handling ect. is what *procedural programming* is made of.\n",
    "Classes are the foundation of what is called *Object Oriented Programming (OOP)*. This is a programming paradigm based on the concept of **\"objects\"**, which may contain **data, in the form of** fields, often known as **attributes**; and **code, in the form of** procedures, often known as **methods**.  \n",
    "\n",
    "A class defines how the objects should be: their status and the actions that they can perform to create their status. \n",
    "To create a particular specimen of a certain class is said creating an **instance** of that class.\n",
    "\n",
    "Let's see  together how to create a class"
   ]
  },
  {
   "cell_type": "markdown",
   "metadata": {
    "heading_collapsed": "false"
   },
   "source": [
    "### Structure of a class"
   ]
  },
  {
   "cell_type": "markdown",
   "metadata": {},
   "source": [
    "The most straightforward structure would be:\n",
    "\n",
    "```python\n",
    "class ClassName():\n",
    "    \n",
    "        attribute = value\n",
    "        ...\n",
    "        \n",
    "        def method(self, arguments):\n",
    "            ...\n",
    "``` \n",
    "Creating an instance:\n",
    "\n",
    "`instance_name = ClassName()`  "
   ]
  },
  {
   "cell_type": "markdown",
   "metadata": {},
   "source": [
    "Example"
   ]
  },
  {
   "cell_type": "code",
   "execution_count": 4,
   "metadata": {},
   "outputs": [],
   "source": [
    "class Cat():   \n",
    "\n",
    "    name = 'Felix'\n",
    "    age = 1\n",
    "    breed = 'Persian'\n",
    "    # age, name and breed are ATTRIBUTES\n",
    "    \n",
    "    def meow(self):\n",
    "        print(f'Meoooow!')\n",
    "    # moew is a method"
   ]
  },
  {
   "cell_type": "markdown",
   "metadata": {},
   "source": [
    "How can use it?"
   ]
  },
  {
   "cell_type": "code",
   "execution_count": 6,
   "metadata": {},
   "outputs": [
    {
     "name": "stdout",
     "output_type": "stream",
     "text": [
      "initial age is 1\n",
      "modified age is 2\n",
      "Meoooow!\n"
     ]
    }
   ],
   "source": [
    "cat = Cat()  # cat is an instance of Cat\n",
    "print(f'initial age is {cat.age}')\n",
    "\n",
    "cat.age = 2\n",
    "print(f'modified age is {cat.age}')\n",
    "cat.meow()\n"
   ]
  },
  {
   "cell_type": "markdown",
   "metadata": {},
   "source": [
    "### Constructor"
   ]
  },
  {
   "cell_type": "markdown",
   "metadata": {
    "heading_collapsed": "false"
   },
   "source": [
    "Create a Class with a Constructor `__init__`.\n",
    "\n",
    "```python\n",
    "class ClassName():\n",
    "\n",
    "    def __init__(self, init_args):\n",
    "        self.attribute = ...\n",
    "        ...\n",
    "        \n",
    "    def method(self, args):\n",
    "        ...\n",
    "``` \n",
    "    \n",
    "Creating an instance:\n",
    "\n",
    "`instance_name = ClassName(init_args)`  \n"
   ]
  },
  {
   "cell_type": "markdown",
   "metadata": {
    "heading_collapsed": "false"
   },
   "source": [
    "The `self` keyword is a placeholder for the class instance yet-to-be-created.  \n",
    "That's why we add it in our methods, that will apply on an instance. When you create a class instance, and call the method with the syntax\n",
    "> `instance_name.method_name()`  \n",
    "\n",
    "the class object fills the place required by the `self` argument. That's why in the example above, `cat_age()` was defined with a `self` argument but when we invoked it on *cat*, we passed no arguments: *cat* filled the `self`!"
   ]
  },
  {
   "cell_type": "code",
   "execution_count": 7,
   "metadata": {
    "heading_collapsed": "false"
   },
   "outputs": [],
   "source": [
    "class Cat():          \n",
    "    # the __init__ method is 'special'. \n",
    "    # In it we define the initial status that\n",
    "    # new instances of this class will have.\n",
    "    def __init__(self, name, age, breed):\n",
    "        # self is a protected keyword referring to the to-be-created instance.         \n",
    "        self.name = name\n",
    "        self.age = age\n",
    "        self.breed = breed"
   ]
  },
  {
   "cell_type": "code",
   "execution_count": 12,
   "metadata": {
    "heading_collapsed": "false"
   },
   "outputs": [
    {
     "name": "stdout",
     "output_type": "stream",
     "text": [
      "Muffin, 3, British Shorthair\n",
      "Tim, 384, ???\n"
     ]
    }
   ],
   "source": [
    "cat = Cat('Muffin', 3, 'British Shorthair')\n",
    "cat2 = Cat('Tim', 384, '???')\n",
    "\n",
    "print(f'{cat.name}, {cat.age}, {cat.breed}')\n",
    "print(f'{cat2.name}, {cat2.age}, {cat2.breed}')"
   ]
  },
  {
   "cell_type": "code",
   "execution_count": 14,
   "metadata": {
    "heading_collapsed": "false"
   },
   "outputs": [
    {
     "name": "stdout",
     "output_type": "stream",
     "text": [
      "Fluffy\n",
      "41\n",
      "Prrrrr\n"
     ]
    }
   ],
   "source": [
    "# Adding new methods\n",
    "class Cat():   \n",
    "    \n",
    "    # initial arguments can have DEFAULT values, as functions!\n",
    "    def __init__(self, name='Fluffy', age=1, breed='Moggy', mood='unsatisfied'):\n",
    "        self.name = name\n",
    "        self.age = age\n",
    "        self.breed = breed\n",
    "        self.mood = mood\n",
    "        \n",
    "    # by passing self, we give access to ALL the attributes of the instance!\n",
    "    def cat_age(self):\n",
    "        if self.age == 1:\n",
    "            cat_age = 15\n",
    "        elif self.age == 2:\n",
    "            cat_age = 25\n",
    "        else:\n",
    "            cat_age = 4*(self.age - 2) + 25\n",
    "            \n",
    "        return cat_age\n",
    "    \n",
    "    def pet(self):\n",
    "        print('Prrrrr')\n",
    "\n",
    "    \n",
    "human_age = 6\n",
    "cat = Cat(age=human_age)\n",
    "print(cat.name)\n",
    "cat_age = cat.cat_age()\n",
    "print(cat_age)\n",
    "cat.pet()"
   ]
  },
  {
   "cell_type": "code",
   "execution_count": 15,
   "metadata": {
    "heading_collapsed": "false"
   },
   "outputs": [],
   "source": [
    "# Adding new methods\n",
    "class Cat():   \n",
    "    \n",
    "    # initial arguments can have DEFAULT values, as functions!\n",
    "    def __init__(self, name='Fluffy', age=1, breed='Moggy', mood='unsatisfied'):\n",
    "        self.name = name\n",
    "        self.age = age\n",
    "        self.breed = breed\n",
    "        self.mood = mood\n",
    "        \n",
    "    # by passing self, we give access to ALL the attributes of the instance!\n",
    "    def cat_age(self):\n",
    "        if self.age == 1:\n",
    "            cat_age = 15\n",
    "        elif self.age == 2:\n",
    "            cat_age = 25\n",
    "        else:\n",
    "            cat_age = 4*(self.age - 2) + 25\n",
    "            \n",
    "        return cat_age\n",
    "    \n",
    "    def pet(self):\n",
    "        print('Prrrrr')\n",
    "        \n",
    "    def feed(self, food_type):\n",
    "        if food_type == 'fish':\n",
    "            self.mood = 'satisfied'"
   ]
  },
  {
   "cell_type": "code",
   "execution_count": 16,
   "metadata": {
    "heading_collapsed": "false"
   },
   "outputs": [
    {
     "name": "stdout",
     "output_type": "stream",
     "text": [
      "unsatisfied\n",
      "unsatisfied\n",
      "satisfied\n"
     ]
    }
   ],
   "source": [
    "cat = Cat('Fluffy')\n",
    "print(cat.mood)\n",
    "\n",
    "cat.feed('croquettes')\n",
    "print(cat.mood)\n",
    "\n",
    "cat.feed('fish')\n",
    "print(cat.mood)"
   ]
  },
  {
   "cell_type": "markdown",
   "metadata": {},
   "source": [
    "<p style='font-size: 22px'>\n",
    "    <span style='background:#FFCE33'>\n",
    "        <b> Exercise: </b> \n",
    "    </span>\n",
    "</p>"
   ]
  },
  {
   "cell_type": "markdown",
   "metadata": {},
   "source": [
    "1. Define a class `Animal` with:\n",
    "   - attributes: `name`, `sound` and `hungry` (default `True`); \n",
    "   - methods:\n",
    "       - `eat` that prints the sound of the animal and turns `hungry` attribute to `False`; \n",
    "       - `sleep` taking as argument the number of hours, if number of hours is greater than 5, then `hungry` is set to `True`. \n",
    "2. Instantiate two different animals and make them `eat` and `sleep`."
   ]
  },
  {
   "cell_type": "code",
   "execution_count": 17,
   "metadata": {
    "heading_collapsed": "false"
   },
   "outputs": [],
   "source": [
    "class Animal():\n",
    "    \n",
    "    def __init__(self, name, sound, hungry=True):\n",
    "        self.name = name\n",
    "        self.sound = sound\n",
    "        self.hungry = hungry\n",
    "    \n",
    "    def eat(self):\n",
    "        print(self.sound)\n",
    "        self.hungry = False\n",
    "    \n",
    "    def sleep(self, hours):\n",
    "        if hours > 5:\n",
    "            self.hungry = True"
   ]
  },
  {
   "cell_type": "code",
   "execution_count": 20,
   "metadata": {},
   "outputs": [
    {
     "data": {
      "text/plain": [
       "('Babe', 'oink', True)"
      ]
     },
     "execution_count": 20,
     "metadata": {},
     "output_type": "execute_result"
    }
   ],
   "source": [
    "pig = Animal('Babe', 'oink')\n",
    "pig.name, pig.sound, pig.hungry"
   ]
  },
  {
   "cell_type": "code",
   "execution_count": 21,
   "metadata": {},
   "outputs": [
    {
     "data": {
      "text/plain": [
       "('Filippo', '???', True)"
      ]
     },
     "execution_count": 21,
     "metadata": {},
     "output_type": "execute_result"
    }
   ],
   "source": [
    "capybara = Animal('Filippo', '???')\n",
    "capybara.name, capybara.sound, capybara.hungry"
   ]
  },
  {
   "cell_type": "code",
   "execution_count": 22,
   "metadata": {},
   "outputs": [
    {
     "name": "stdout",
     "output_type": "stream",
     "text": [
      "???\n"
     ]
    },
    {
     "data": {
      "text/plain": [
       "False"
      ]
     },
     "execution_count": 22,
     "metadata": {},
     "output_type": "execute_result"
    }
   ],
   "source": [
    "capybara.eat()\n",
    "capybara.hungry"
   ]
  },
  {
   "cell_type": "code",
   "execution_count": 23,
   "metadata": {},
   "outputs": [
    {
     "data": {
      "text/plain": [
       "False"
      ]
     },
     "execution_count": 23,
     "metadata": {},
     "output_type": "execute_result"
    }
   ],
   "source": [
    "capybara.sleep(2)\n",
    "capybara.hungry"
   ]
  },
  {
   "cell_type": "code",
   "execution_count": 24,
   "metadata": {},
   "outputs": [
    {
     "data": {
      "text/plain": [
       "True"
      ]
     },
     "execution_count": 24,
     "metadata": {},
     "output_type": "execute_result"
    }
   ],
   "source": [
    "capybara.sleep(6)\n",
    "capybara.hungry"
   ]
  },
  {
   "cell_type": "markdown",
   "metadata": {
    "tags": []
   },
   "source": [
    "### Inheritance"
   ]
  },
  {
   "cell_type": "code",
   "execution_count": 34,
   "metadata": {},
   "outputs": [],
   "source": [
    "class Bird(Animal):\n",
    "    \n",
    "    def __init__(self, name, flying_ability):\n",
    "        # equivalent to Animal.__init__(name, 'cra')\n",
    "        super().__init__(name, 'cra')\n",
    "        self.flying_ability = flying_ability\n",
    "    \n",
    "    def fly(self):\n",
    "        self.hungry = self.flying_ability\n",
    "       "
   ]
  },
  {
   "cell_type": "code",
   "execution_count": 35,
   "metadata": {},
   "outputs": [
    {
     "name": "stdout",
     "output_type": "stream",
     "text": [
      "cra\n",
      "True\n"
     ]
    }
   ],
   "source": [
    "canary = Bird('Tweety', True)\n",
    "\n",
    "canary.eat()\n",
    "canary.fly()\n",
    "print(canary.hungry)"
   ]
  },
  {
   "cell_type": "code",
   "execution_count": 36,
   "metadata": {},
   "outputs": [
    {
     "data": {
      "text/plain": [
       "True"
      ]
     },
     "execution_count": 36,
     "metadata": {},
     "output_type": "execute_result"
    }
   ],
   "source": [
    "canary.sleep(6)\n",
    "canary.hungry"
   ]
  },
  {
   "cell_type": "markdown",
   "metadata": {},
   "source": [
    "<p style='font-size: 22px'>\n",
    "    <span style='background:#FFCE33'>\n",
    "        <b> Exercise: </b>\n",
    "    </span>\n",
    "</p>"
   ]
  },
  {
   "cell_type": "markdown",
   "metadata": {},
   "source": [
    "1. Define a class `Fish` inheriting from class `Animal` with a new attribute `depth` and a new method `swim` that makes them hungry. \n",
    "2. Instantiate a fish and test the class."
   ]
  },
  {
   "cell_type": "code",
   "execution_count": 37,
   "metadata": {
    "heading_collapsed": "false"
   },
   "outputs": [],
   "source": [
    "# YOUR CODE HERE\n",
    "\n",
    "class Fish(Animal):\n",
    "    \n",
    "    def __init__(self, name, depth):\n",
    "        \n",
    "        super().__init__(name, sound = 'blup-blup')\n",
    "        \n",
    "        self.depth = depth\n",
    "        \n",
    "    def swim(self):\n",
    "        \n",
    "        self.hungry = True"
   ]
  },
  {
   "cell_type": "code",
   "execution_count": 42,
   "metadata": {},
   "outputs": [
    {
     "name": "stdout",
     "output_type": "stream",
     "text": [
      "blup-blup\n",
      "False\n"
     ]
    },
    {
     "data": {
      "text/plain": [
       "True"
      ]
     },
     "execution_count": 42,
     "metadata": {},
     "output_type": "execute_result"
    }
   ],
   "source": [
    "clownfish = Fish('Nemo', 50)\n",
    "clownfish.eat()\n",
    "print(clownfish.hungry)\n",
    "clownfish.swim()\n",
    "clownfish.hungry"
   ]
  },
  {
   "cell_type": "markdown",
   "metadata": {
    "heading_collapsed": "false",
    "tags": []
   },
   "source": [
    "### Iterators, Iterables"
   ]
  },
  {
   "cell_type": "markdown",
   "metadata": {
    "heading_collapsed": "false"
   },
   "source": [
    "An **Iterator** is an object that represents a stream of data. More precisely, an objects that has the `__next__` method which returns the next item from the iterator or raises `StopIteration` exception if there are no further items. When you use a for loop, list comprehension or anything else that iterates over an object, in the background the `__next__` method is being called on an iterator."
   ]
  },
  {
   "cell_type": "code",
   "execution_count": 45,
   "metadata": {
    "heading_collapsed": "false"
   },
   "outputs": [],
   "source": [
    "from math import gcd\n",
    "\n",
    "# define the iterator object\n",
    "class Multiple():\n",
    "    \n",
    "    # as any class it supports the __init__ method\n",
    "    def __init__(self, number, maximum=1000):\n",
    "        self.number = number\n",
    "        self.maximum = maximum\n",
    "        self.counter = 0\n",
    "        \n",
    "    # __next__ method makes the class an iterator\n",
    "    def __next__(self):\n",
    "        self.counter += 1\n",
    "        value = self.number * self.counter\n",
    "        if value > self.maximum:\n",
    "            raise StopIteration\n",
    "        return value"
   ]
  },
  {
   "cell_type": "code",
   "execution_count": 50,
   "metadata": {},
   "outputs": [
    {
     "name": "stdout",
     "output_type": "stream",
     "text": [
      "79\n",
      "158\n",
      "237\n",
      "316\n",
      "395\n",
      "474\n",
      "553\n",
      "632\n",
      "711\n",
      "790\n",
      "869\n",
      "948\n"
     ]
    },
    {
     "ename": "StopIteration",
     "evalue": "",
     "output_type": "error",
     "traceback": [
      "\u001b[1;31m---------------------------------------------------------------------------\u001b[0m",
      "\u001b[1;31mStopIteration\u001b[0m                             Traceback (most recent call last)",
      "Cell \u001b[1;32mIn[50], line 14\u001b[0m\n\u001b[0;32m     12\u001b[0m \u001b[38;5;28mprint\u001b[39m(\u001b[38;5;28mnext\u001b[39m(iterator))\n\u001b[0;32m     13\u001b[0m \u001b[38;5;28mprint\u001b[39m(\u001b[38;5;28mnext\u001b[39m(iterator))\n\u001b[1;32m---> 14\u001b[0m \u001b[38;5;28mprint\u001b[39m(\u001b[38;5;28;43mnext\u001b[39;49m\u001b[43m(\u001b[49m\u001b[43miterator\u001b[49m\u001b[43m)\u001b[49m)\n\u001b[0;32m     15\u001b[0m \u001b[38;5;28mprint\u001b[39m(\u001b[38;5;28mnext\u001b[39m(iterator))\n\u001b[0;32m     16\u001b[0m \u001b[38;5;28mprint\u001b[39m(\u001b[38;5;28mnext\u001b[39m(iterator))\n",
      "Cell \u001b[1;32mIn[45], line 17\u001b[0m, in \u001b[0;36mMultiple.__next__\u001b[1;34m(self)\u001b[0m\n\u001b[0;32m     15\u001b[0m value \u001b[38;5;241m=\u001b[39m \u001b[38;5;28mself\u001b[39m\u001b[38;5;241m.\u001b[39mnumber \u001b[38;5;241m*\u001b[39m \u001b[38;5;28mself\u001b[39m\u001b[38;5;241m.\u001b[39mcounter\n\u001b[0;32m     16\u001b[0m \u001b[38;5;28;01mif\u001b[39;00m value \u001b[38;5;241m>\u001b[39m \u001b[38;5;28mself\u001b[39m\u001b[38;5;241m.\u001b[39mmaximum:\n\u001b[1;32m---> 17\u001b[0m     \u001b[38;5;28;01mraise\u001b[39;00m \u001b[38;5;167;01mStopIteration\u001b[39;00m\n\u001b[0;32m     18\u001b[0m \u001b[38;5;28;01mreturn\u001b[39;00m value\n",
      "\u001b[1;31mStopIteration\u001b[0m: "
     ]
    }
   ],
   "source": [
    "iterator = Multiple(79)\n",
    "print(next(iterator))\n",
    "print(next(iterator))\n",
    "print(next(iterator))\n",
    "print(next(iterator))\n",
    "print(next(iterator))\n",
    "print(next(iterator))\n",
    "print(next(iterator))\n",
    "print(next(iterator))\n",
    "print(next(iterator))\n",
    "print(next(iterator))\n",
    "print(next(iterator))\n",
    "print(next(iterator))\n",
    "print(next(iterator))\n",
    "print(next(iterator))\n",
    "print(next(iterator))\n",
    "print(next(iterator))"
   ]
  },
  {
   "cell_type": "code",
   "execution_count": 52,
   "metadata": {
    "heading_collapsed": "false"
   },
   "outputs": [
    {
     "ename": "TypeError",
     "evalue": "'Multiple' object is not iterable",
     "output_type": "error",
     "traceback": [
      "\u001b[1;31m---------------------------------------------------------------------------\u001b[0m",
      "\u001b[1;31mTypeError\u001b[0m                                 Traceback (most recent call last)",
      "Cell \u001b[1;32mIn[52], line 2\u001b[0m\n\u001b[0;32m      1\u001b[0m \u001b[38;5;66;03m# use it in a for loop\u001b[39;00m\n\u001b[1;32m----> 2\u001b[0m \u001b[38;5;28;01mfor\u001b[39;00m number \u001b[38;5;129;01min\u001b[39;00m Multiple(\u001b[38;5;241m79\u001b[39m):\n\u001b[0;32m      3\u001b[0m     \u001b[38;5;28mprint\u001b[39m(number)\n",
      "\u001b[1;31mTypeError\u001b[0m: 'Multiple' object is not iterable"
     ]
    }
   ],
   "source": [
    "# use it in a for loop\n",
    "for number in Multiple(79):\n",
    "    print(number)"
   ]
  },
  {
   "cell_type": "markdown",
   "metadata": {
    "heading_collapsed": "false"
   },
   "source": [
    "An **Iterable** is anything that is able to iterate. In practice, an object that has the `__iter__` method, which returns an iterator. To clarify, strings, lists, files, and dictionaries are all examples of iteables that return an iterator on themselves.\n",
    "\n",
    "Here an awesome article that explain the differences https://hackaday.com/2018/09/19/learn-to-loop-the-python-way-iterators-and-generators-explained/"
   ]
  },
  {
   "cell_type": "code",
   "execution_count": 53,
   "metadata": {
    "heading_collapsed": "false"
   },
   "outputs": [],
   "source": [
    "from math import gcd\n",
    "\n",
    "# define the iterator object\n",
    "class Multiple():\n",
    "    \n",
    "    # as any class it supports the __init__ method\n",
    "    def __init__(self, number, maximum=1000):\n",
    "        self.number = number\n",
    "        self.maximum = maximum\n",
    "        self.counter = 0\n",
    "    \n",
    "    # __iter__ method makes the class an iterable\n",
    "    def __iter__(self):\n",
    "        return self\n",
    "        \n",
    "    # __next__ method makes the class an iterator\n",
    "    def __next__(self):\n",
    "        self.counter += 1\n",
    "        value = self.number * self.counter\n",
    "        if value > self.maximum:\n",
    "            raise StopIteration\n",
    "        return value"
   ]
  },
  {
   "cell_type": "code",
   "execution_count": 54,
   "metadata": {
    "heading_collapsed": "false"
   },
   "outputs": [
    {
     "name": "stdout",
     "output_type": "stream",
     "text": [
      "79\n",
      "158\n",
      "237\n",
      "316\n",
      "395\n",
      "474\n",
      "553\n",
      "632\n",
      "711\n",
      "790\n",
      "869\n",
      "948\n"
     ]
    }
   ],
   "source": [
    "# use it in a for loop\n",
    "for number in Multiple(79):\n",
    "    print(number)"
   ]
  },
  {
   "cell_type": "markdown",
   "metadata": {
    "heading_collapsed": "false"
   },
   "source": [
    "**Why it is good to be able to write your own iterator?**\n",
    "\n",
    "Many programs have a need to iterate over a large list of generated data and iterators can work on the principle of **lazy evaluation**: as you loop over an iterator, values are generated as required. In many situations, the simple choice to use an iterator can markedly improve performance."
   ]
  },
  {
   "cell_type": "markdown",
   "metadata": {},
   "source": [
    "<p style='font-size: 22px'>\n",
    "    <span style='background:#FFCE33'>\n",
    "        <b> Exercise: </b>\n",
    "    </span>\n",
    "</p>"
   ]
  },
  {
   "cell_type": "markdown",
   "metadata": {},
   "source": [
    "create a class Dice whose `__next__` method returns a random number that ranges from 1 to 6. \n",
    "Then, create two instances of `Dice` and iter over them until they draw the same number.\n",
    "\n",
    "HINT: use `randint` (from the `random` library) to draw a random integer and use zip to iter over the two iterables in a single for"
   ]
  },
  {
   "cell_type": "code",
   "execution_count": 56,
   "metadata": {},
   "outputs": [],
   "source": [
    "import random"
   ]
  },
  {
   "cell_type": "code",
   "execution_count": 66,
   "metadata": {},
   "outputs": [
    {
     "data": {
      "text/plain": [
       "2"
      ]
     },
     "execution_count": 66,
     "metadata": {},
     "output_type": "execute_result"
    }
   ],
   "source": [
    "random.randint(1, 6)"
   ]
  },
  {
   "cell_type": "code",
   "execution_count": 61,
   "metadata": {},
   "outputs": [
    {
     "name": "stdout",
     "output_type": "stream",
     "text": [
      "1 a\n",
      "2 b\n",
      "3 c\n"
     ]
    }
   ],
   "source": [
    "iterable_a = [1, 2, 3]\n",
    "iterable_b = ['a', 'b', 'c']\n",
    "\n",
    "for a, b in zip(iterable_a, iterable_b):\n",
    "    print(a, b)"
   ]
  },
  {
   "cell_type": "code",
   "execution_count": 71,
   "metadata": {},
   "outputs": [],
   "source": [
    "class Dice():\n",
    "    def __init__(self, maxiter=100):\n",
    "        self.maxiter = maxiter\n",
    "        self.counter = 0\n",
    "        pass\n",
    "    \n",
    "    def __iter__(self):\n",
    "        return self\n",
    "    \n",
    "    def __next__(self):\n",
    "        self.counter += 1\n",
    "        if self.counter > self.maxiter:\n",
    "            raise StopIteration\n",
    "        number = random.randint(1, 6)\n",
    "        return number"
   ]
  },
  {
   "cell_type": "code",
   "execution_count": 72,
   "metadata": {},
   "outputs": [
    {
     "name": "stdout",
     "output_type": "stream",
     "text": [
      "1\n",
      "3\n",
      "5\n",
      "3\n",
      "2\n",
      "6\n",
      "5\n",
      "3\n",
      "4\n",
      "6\n"
     ]
    }
   ],
   "source": [
    "for number in Dice(10):\n",
    "    print(number)"
   ]
  },
  {
   "cell_type": "code",
   "execution_count": 70,
   "metadata": {},
   "outputs": [
    {
     "name": "stdout",
     "output_type": "stream",
     "text": [
      "4 3\n",
      "5 6\n",
      "5 1\n",
      "1 1\n"
     ]
    }
   ],
   "source": [
    "dice1 = Dice()\n",
    "dice2 = Dice()\n",
    "\n",
    "for number1, number2 in zip(dice1, dice2):\n",
    "    print(number1, number2)\n",
    "    if number1 == number2:\n",
    "        break"
   ]
  },
  {
   "cell_type": "markdown",
   "metadata": {
    "heading_collapsed": "false",
    "tags": []
   },
   "source": [
    "## Bytes"
   ]
  },
  {
   "cell_type": "markdown",
   "metadata": {
    "heading_collapsed": "false"
   },
   "source": [
    "Python supports a particular kind of strings (so they are **immutable**) used to represent **bytes**. A bytes string represents a sequence of bytes, i.e., each element corresponds to a memory location of 8 bits.\n",
    "\n",
    "Bytes differs from normal string by a `b` preceeding the first apix `'` (or double apix `\"`) defining a string.\n",
    "\n",
    "With normal strings you are not caring about how each char is encoded in memory, in bytes you do and by default each char is encoded as **utf-8** (8-bit Unicode Transformation Format).\n",
    "\n",
    "```python\n",
    "string = 'hello'        \n",
    "bytes_string = b'hello' \n",
    "```\n"
   ]
  },
  {
   "cell_type": "code",
   "execution_count": 13,
   "metadata": {
    "heading_collapsed": "false"
   },
   "outputs": [
    {
     "name": "stdout",
     "output_type": "stream",
     "text": [
      "h 104 0x68\n",
      "e 101 0x65\n",
      "l 108 0x6c\n",
      "l 108 0x6c\n",
      "o 111 0x6f\n"
     ]
    }
   ],
   "source": [
    "string = 'hello'        # I see an 'h', an 'e', two 'l' and an 'o'\n",
    "bytes_string = b'hello' # I care that the 'h' is stored as 0x68, the 'e' as \n",
    "                        # 0x65, the 'l' as 0x6c, and the 'f' as 0x6f\n",
    "\n",
    "print(string[0], bytes_string[0], hex(bytes_string[0]))\n",
    "print(string[1], bytes_string[1], hex(bytes_string[1]))\n",
    "print(string[2], bytes_string[2], hex(bytes_string[2]))\n",
    "print(string[3], bytes_string[3], hex(bytes_string[3]))\n",
    "print(string[4], bytes_string[4], hex(bytes_string[4]))"
   ]
  },
  {
   "cell_type": "markdown",
   "metadata": {
    "heading_collapsed": "false"
   },
   "source": [
    "bytes can also be defined starting from a normal string, an integer or a list of integers."
   ]
  },
  {
   "cell_type": "code",
   "execution_count": 24,
   "metadata": {
    "heading_collapsed": "false"
   },
   "outputs": [
    {
     "data": {
      "text/plain": [
       "b'hello'"
      ]
     },
     "execution_count": 24,
     "metadata": {},
     "output_type": "execute_result"
    }
   ],
   "source": [
    "# use built-in method `bytes`\n",
    "from_list_of_int = bytes([104, 101, 108, 108, 111])\n",
    "from_list_of_int"
   ]
  },
  {
   "cell_type": "markdown",
   "metadata": {
    "heading_collapsed": "false"
   },
   "source": [
    "In case of values that are not representable as char, the hexadecimal code is displayed preceeded by `\\x`."
   ]
  },
  {
   "cell_type": "code",
   "execution_count": 36,
   "metadata": {
    "heading_collapsed": "false"
   },
   "outputs": [
    {
     "data": {
      "text/plain": [
       "b'\\x00\\x01\\x02\\x08\\x10\\x18'"
      ]
     },
     "execution_count": 36,
     "metadata": {},
     "output_type": "execute_result"
    }
   ],
   "source": [
    "from_list_of_int = bytes([0, 1, 2, 8, 16, 24])\n",
    "from_list_of_int"
   ]
  },
  {
   "cell_type": "code",
   "execution_count": 35,
   "metadata": {
    "heading_collapsed": "false"
   },
   "outputs": [
    {
     "data": {
      "text/plain": [
       "b'hello'"
      ]
     },
     "execution_count": 35,
     "metadata": {},
     "output_type": "execute_result"
    }
   ],
   "source": [
    "# from a integer you can use the `to_bytes` int method that needs as parameters\n",
    "# the number of bytes and the endianess\n",
    "from_int = int(0x68656c6c6f).to_bytes(5, byteorder='big')\n",
    "from_int"
   ]
  },
  {
   "cell_type": "code",
   "execution_count": 30,
   "metadata": {
    "heading_collapsed": "false"
   },
   "outputs": [
    {
     "name": "stdout",
     "output_type": "stream",
     "text": [
      "b'hello'\n"
     ]
    }
   ],
   "source": [
    "# from a string you would better specify the encoding type\n",
    "from_string = bytes('hello', encoding='utf-8')\n",
    "print(from_string)"
   ]
  },
  {
   "cell_type": "code",
   "execution_count": 34,
   "metadata": {},
   "outputs": [
    {
     "name": "stdout",
     "output_type": "stream",
     "text": [
      "10 b'\\x00h\\x00e\\x00l\\x00l\\x00o'\n",
      "10 b'h\\x00e\\x00l\\x00l\\x00o\\x00'\n",
      "20 b'h\\x00\\x00\\x00e\\x00\\x00\\x00l\\x00\\x00\\x00l\\x00\\x00\\x00o\\x00\\x00\\x00'\n"
     ]
    }
   ],
   "source": [
    "from_string = bytes('hello', encoding='utf-16-be')\n",
    "print(len(from_string), from_string)\n",
    "\n",
    "from_string = bytes('hello', encoding='utf-16-le')\n",
    "print(len(from_string), from_string)\n",
    "\n",
    "from_string = bytes('hello', encoding='utf-32-le')\n",
    "print(len(from_string), from_string)"
   ]
  },
  {
   "cell_type": "markdown",
   "metadata": {},
   "source": [
    "Some other useful functions:"
   ]
  },
  {
   "cell_type": "code",
   "execution_count": 142,
   "metadata": {},
   "outputs": [],
   "source": [
    "def bits_to_integer(bits):\n",
    "    '''\n",
    "    Given a list of bits its integer representation is generated\n",
    "    EX: [1, 0, 1, 1] -->  11 (0b1011)\n",
    "    ----------\n",
    "    bits: list,\n",
    "        the list of bits (each represented with an integer 0/1 or a bool)\n",
    "\n",
    "    Return\n",
    "    ------\n",
    "    int,\n",
    "        integer having the binary representation defined by the list\n",
    "    '''\n",
    "    \n",
    "    integer = 0\n",
    "    \n",
    "    for bit in bits:\n",
    "        integer = (integer << 1) ^ bit\n",
    "        \n",
    "    return integer"
   ]
  },
  {
   "cell_type": "code",
   "execution_count": 166,
   "metadata": {},
   "outputs": [
    {
     "name": "stdout",
     "output_type": "stream",
     "text": [
      "0xb125\n"
     ]
    }
   ],
   "source": [
    "bitlist = [True, False, True, True, False, False, False, True,\n",
    "          False, False, True, False, False, True, False, True]\n",
    "integer = bits_to_integer(bitlist)\n",
    "print(hex(integer))"
   ]
  },
  {
   "cell_type": "code",
   "execution_count": 163,
   "metadata": {},
   "outputs": [],
   "source": [
    "from math import ceil\n",
    "\n",
    "def bits_to_bytes(bits, num_bytes=None, byteorder='big'):\n",
    "    '''\n",
    "    Converts a list of bits into bytes\n",
    "    EX: [1, 0, 1, 1] -->  11 (0b1011)\n",
    "    ----------\n",
    "    bits: list,\n",
    "        the list of bits (each represented with an integer 0/1 or a bool)\n",
    "    num_bytes: int, optional\n",
    "        the number of bytes to use for the representation\n",
    "        (when None the least ammout of bytes is used)  \n",
    "    byteorder: str, optional\n",
    "        the order of the bytes\n",
    "        (defualt is big)\n",
    "\n",
    "    Return\n",
    "    ------\n",
    "    int,\n",
    "        integer having the binary representation defined by the list\n",
    "    '''\n",
    "    \n",
    "    if num_bytes is None:\n",
    "        num_bytes = ceil(len(bits) / 8)\n",
    "        \n",
    "    bytestream = bits_to_integer(bits).to_bytes(num_bytes, byteorder)\n",
    "    return bytestream\n",
    "    "
   ]
  },
  {
   "cell_type": "code",
   "execution_count": 164,
   "metadata": {},
   "outputs": [
    {
     "name": "stdout",
     "output_type": "stream",
     "text": [
      "b'\\xb1%'\n"
     ]
    }
   ],
   "source": [
    "bytestream = bits_to_bytes(bitlist)\n",
    "print(bytestream)"
   ]
  },
  {
   "cell_type": "code",
   "execution_count": 168,
   "metadata": {},
   "outputs": [],
   "source": [
    "from math import log2\n",
    "\n",
    "def integer_to_bits(integer, nbit=None):\n",
    "    '''\n",
    "    Given an integer, it generates the corresponding sequence of bits\n",
    "    EX:  11 (0b1011) --> [1, 0, 1, 1]\n",
    "    ----------\n",
    "    integer: int,\n",
    "        integer to convert into a list of bits,\n",
    "    nbit: int, optional (default None)\n",
    "        length of the output sequence of bits.\n",
    "        If None the length is ceil(log2(integer)) \n",
    "\n",
    "    Return\n",
    "    ------\n",
    "    list of bools,\n",
    "        output bit sequence\n",
    "    '''\n",
    "    \n",
    "    if nbit is None:\n",
    "        nbit = ceil(log2(integer))\n",
    "    bits = []\n",
    "    for i in range(nbit):\n",
    "        bits.append(bool((integer & (1 << i)) >> i))\n",
    "    return bits[::-1]"
   ]
  },
  {
   "cell_type": "code",
   "execution_count": 171,
   "metadata": {},
   "outputs": [
    {
     "data": {
      "text/plain": [
       "[True,\n",
       " False,\n",
       " True,\n",
       " True,\n",
       " False,\n",
       " False,\n",
       " False,\n",
       " True,\n",
       " False,\n",
       " False,\n",
       " True,\n",
       " False,\n",
       " False,\n",
       " True,\n",
       " False,\n",
       " True]"
      ]
     },
     "execution_count": 171,
     "metadata": {},
     "output_type": "execute_result"
    }
   ],
   "source": [
    "integer_to_bits(integer)"
   ]
  },
  {
   "cell_type": "code",
   "execution_count": 159,
   "metadata": {},
   "outputs": [],
   "source": [
    "def bytes_to_bits(bytestream):\n",
    "    '''\n",
    "    Given a byte string, it generates the corresponding sequence of bits\n",
    "    EX:  b'a' (0x61) --> [0, 1, 1, 0, 0, 0, 0, 1]\n",
    "    ----------\n",
    "    bytestream: bytes,\n",
    "        byte string to convert into a list of bits,\n",
    "\n",
    "    Return\n",
    "    ------\n",
    "    list of bool,\n",
    "        output bit sequence with lenght 8*len(bytestream)\n",
    "    ''' \n",
    "    \n",
    "    integer = int.from_bytes(bytestream, byteorder='big')\n",
    "    bits = integer_to_bits(integer, nbit=8*len(bytestream))\n",
    "    \n",
    "    return bits\n",
    "    \n",
    "    "
   ]
  },
  {
   "cell_type": "code",
   "execution_count": 172,
   "metadata": {},
   "outputs": [
    {
     "data": {
      "text/plain": [
       "[True,\n",
       " False,\n",
       " True,\n",
       " True,\n",
       " False,\n",
       " False,\n",
       " False,\n",
       " True,\n",
       " False,\n",
       " False,\n",
       " True,\n",
       " False,\n",
       " False,\n",
       " True,\n",
       " False,\n",
       " True]"
      ]
     },
     "execution_count": 172,
     "metadata": {},
     "output_type": "execute_result"
    }
   ],
   "source": [
    "bytes_to_bits(bytestream)"
   ]
  }
 ],
 "metadata": {
  "kernelspec": {
   "display_name": "Python 3 (ipykernel)",
   "language": "python",
   "name": "python3"
  },
  "language_info": {
   "codemirror_mode": {
    "name": "ipython",
    "version": 3
   },
   "file_extension": ".py",
   "mimetype": "text/x-python",
   "name": "python",
   "nbconvert_exporter": "python",
   "pygments_lexer": "ipython3",
   "version": "3.10.9"
  }
 },
 "nbformat": 4,
 "nbformat_minor": 4
}
