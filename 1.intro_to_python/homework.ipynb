{
 "cells": [
  {
   "attachments": {},
   "cell_type": "markdown",
   "metadata": {},
   "source": [
    "Homework\n",
    "\n",
    "Read the text file The Gold Bug.txt (it contains a short novel written by Edgar Allan Poe which helped to popularize cryptography in the 19 th century)"
   ]
  },
  {
   "cell_type": "code",
   "execution_count": 1,
   "metadata": {},
   "outputs": [],
   "source": [
    "#did not find The Gold Bug.txt, used dummy txt instead\n",
    "with open(file='sample3.txt', mode='r') as f:\n",
    "    txt = f.read()"
   ]
  },
  {
   "attachments": {},
   "cell_type": "markdown",
   "metadata": {},
   "source": [
    "Build a function that given a certain letter of the English alphabet, returns its occurrence in the text"
   ]
  },
  {
   "cell_type": "code",
   "execution_count": 11,
   "metadata": {},
   "outputs": [
    {
     "data": {
      "text/plain": [
       "327"
      ]
     },
     "execution_count": 11,
     "metadata": {},
     "output_type": "execute_result"
    }
   ],
   "source": [
    "def findLetter(letter, text):\n",
    "    occurence=0\n",
    "    for i in range(len(text)):\n",
    "        if txt[i].lower() == letter.lower():\n",
    "            occurence+=1\n",
    "    return occurence\n",
    "\n",
    "findLetter(\"e\", txt)"
   ]
  },
  {
   "attachments": {},
   "cell_type": "markdown",
   "metadata": {},
   "source": [
    "Build a function that given a text, returns the English letters distribution (frequency) contained in a suitable data structure (I choose dictionary)"
   ]
  },
  {
   "cell_type": "code",
   "execution_count": 36,
   "metadata": {},
   "outputs": [],
   "source": [
    "from string import ascii_lowercase as alc\n",
    "\n",
    "def letterFrequency(text):\n",
    "    letter_Dict = {}    \n",
    "    for i in alc:\n",
    "        letter_Dict[i]= findLetter(i, text)\n",
    "    return(letter_Dict)\n",
    "\n",
    "\n",
    "data_Dict=letterFrequency(txt)"
   ]
  },
  {
   "attachments": {},
   "cell_type": "markdown",
   "metadata": {},
   "source": [
    "Visualize the letters distribution by means of the most appropriate plot"
   ]
  },
  {
   "cell_type": "code",
   "execution_count": 39,
   "metadata": {},
   "outputs": [
    {
     "data": {
      "image/png": "[encoded data removed]",
      "text/plain": [
       "<Figure size 432x288 with 1 Axes>"
      ]
     },
     "metadata": {
      "needs_background": "light"
     },
     "output_type": "display_data"
    }
   ],
   "source": [
    "import matplotlib.pyplot as plt  # standard abbreviation for pyplot\n",
    "\n",
    "plt.bar(*zip(*data_Dict.items()))\n",
    "plt.show()"
   ]
  },
  {
   "attachments": {},
   "cell_type": "markdown",
   "metadata": {},
   "source": [
    "Save the data structure as a pkl (“pickle”) file"
   ]
  },
  {
   "cell_type": "code",
   "execution_count": 45,
   "metadata": {},
   "outputs": [],
   "source": [
    "import pickle\n",
    "\n",
    "with open('letter_frequency.pkl', 'wb') as f:\n",
    "        pickle.dump(data_Dict, f)\n"
   ]
  }
 ],
 "metadata": {
  "kernelspec": {
   "display_name": "Python 3",
   "language": "python",
   "name": "python3"
  },
  "language_info": {
   "codemirror_mode": {
    "name": "ipython",
    "version": 3
   },
   "file_extension": ".py",
   "mimetype": "text/x-python",
   "name": "python",
   "nbconvert_exporter": "python",
   "pygments_lexer": "ipython3",
   "version": "3.10.0"
  },
  "orig_nbformat": 4,
  "vscode": {
   "interpreter": {
    "hash": "aee8b7b246df8f9039afb4144a1f6fd8d2ca17a180786b69acc140d282b71a49"
   }
  }
 },
 "nbformat": 4,
 "nbformat_minor": 2
}
