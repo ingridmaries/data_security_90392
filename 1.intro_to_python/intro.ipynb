{
 "cells": [
  {
   "cell_type": "markdown",
   "id": "51d73f20",
   "metadata": {},
   "source": [
    "# Introduction to Jupyter and Python"
   ]
  },
  {
   "cell_type": "markdown",
   "id": "c5a3021f",
   "metadata": {
    "toc-hr-collapsed": true
   },
   "source": [
    "## Jupyter Notebook"
   ]
  },
  {
   "cell_type": "markdown",
   "id": "753ba999",
   "metadata": {},
   "source": [
    "*This* is a **Jupyter Notebook**. \n",
    "\n",
    "The Jupyter Notebook is **web application** (you access it as a web page on any browser like Chrome, FireFox, etc.) and is **open-source**, maintained by the people at [Project Jupyter](https://jupyter.org/).\n",
    "\n",
    "A notebook is an **interactive** document that allows you to both write and execute `python` code (not only python), without the need of using a command line (or shell), a script editor or and IDE. A notebook not only contains code, but text, visualization and equations.\n",
    "\n",
    "The name, Jupyter, comes from the core supported programming languages that it supports: **Ju**lia, **Pyt**hon, and **R**. However, there are currently over 100 other kernels that you can also use.\n",
    "\n",
    "You probably started Jupyter from a command line (or shell or terminal or whatever you call it) and, if you get back there, you will see that it is still running something. That is a Jupyter server (just like the ones you find on the internet). So you access Jupyter by your browser because it connects to that server at the URL: http://localhost:8888/lab (or something similar). The term *localhost* means you are hosting the server locally (on your machine)."
   ]
  },
  {
   "cell_type": "markdown",
   "id": "52246b0d",
   "metadata": {},
   "source": [
    "### Notebook's Cell"
   ]
  },
  {
   "cell_type": "markdown",
   "id": "c83e3d13",
   "metadata": {},
   "source": [
    "A notebook is made of **cells** that can contain either: "
   ]
  },
  {
   "cell_type": "markdown",
   "id": "12001e7d",
   "metadata": {},
   "source": [
    "- **raw text**"
   ]
  },
  {
   "cell_type": "raw",
   "id": "1431d35c",
   "metadata": {},
   "source": [
    "this is a raw text cell. As you see it is just text with no formatting rule.\n",
    "Not very useful indeed."
   ]
  },
  {
   "cell_type": "markdown",
   "id": "1c02a7b4",
   "metadata": {},
   "source": [
    "- formatted text in **markdown** language."
   ]
  },
  {
   "cell_type": "markdown",
   "id": "77f6d763",
   "metadata": {},
   "source": [
    "This is a markdown cell. It does not seem so different from the text you have read since here, does it? That is because it was all written in markdown cells! \n",
    "Just double click on this text and you will see it will turn into a cell with unformatted text!"
   ]
  },
  {
   "cell_type": "markdown",
   "id": "0d4babb3",
   "metadata": {},
   "source": [
    "If you are interested in markdown, check out the web page on [Wikipedia](https://en.wikipedia.org/wiki/Markdown) and on [John Gruber's blog](https://daringfireball.net/projects/markdown/) (the inventor together with Aaron Swartz)"
   ]
  },
  {
   "cell_type": "markdown",
   "id": "79b2f3dd",
   "metadata": {},
   "source": [
    "- **code**"
   ]
  },
  {
   "cell_type": "code",
   "execution_count": null,
   "id": "ad69eada",
   "metadata": {},
   "outputs": [],
   "source": [
    "# this is a python code cell, and this is a comment since it starts with `#`\n",
    "print('hello world!') # here I say hello to the world."
   ]
  },
  {
   "cell_type": "markdown",
   "id": "03152805",
   "metadata": {},
   "source": [
    "When you **run** a cell you evaluate what is inside. If it was code you *execute* it and if it was markdown you transform it into formatted text (with raw cells nothing happens).\n",
    "\n",
    "**How to run a cell?**\n",
    "- *Boring way*: select the cell and then click the `Run` button on the toolbar in the upper part of the document.\n",
    "- *Smart way*: when the cell is selected, just press `CTRL` + `ENTER` or `SHIFT` + `ENTER`\n",
    "\n",
    "**How to change the type of a cell?**\n",
    "- *Boring way*: on the toolbar you find a drop-down menu where you can select the cell type.\n",
    "- *Smart way*: there are shorcuts. I will let you discover them."
   ]
  },
  {
   "cell_type": "markdown",
   "id": "9c2a6f28",
   "metadata": {
    "tags": []
   },
   "source": [
    "## Python"
   ]
  },
  {
   "cell_type": "markdown",
   "id": "f1cbe3da",
   "metadata": {},
   "source": [
    "Let's do some Python!"
   ]
  },
  {
   "cell_type": "code",
   "execution_count": null,
   "id": "2b8ad764-cdc9-451f-a290-b5810b6cb7eb",
   "metadata": {},
   "outputs": [],
   "source": [
    "1 + 1"
   ]
  },
  {
   "cell_type": "markdown",
   "id": "0a2a82bc",
   "metadata": {
    "heading_collapsed": "false"
   },
   "source": [
    "### Comments"
   ]
  },
  {
   "cell_type": "markdown",
   "id": "90fb23b1",
   "metadata": {
    "heading_collapsed": "false"
   },
   "source": [
    "\n",
    "A comment is a line that will not be executed. You can use comments to make your code more readable by others and/or to take notes. To write a comment, insert the `#` symbol and write your text after it.  "
   ]
  },
  {
   "cell_type": "code",
   "execution_count": null,
   "id": "7d632650",
   "metadata": {},
   "outputs": [],
   "source": [
    "# This is how a comment looks like in python"
   ]
  },
  {
   "cell_type": "markdown",
   "id": "0fca998a",
   "metadata": {},
   "source": [
    "### Variables"
   ]
  },
  {
   "cell_type": "markdown",
   "id": "515684af",
   "metadata": {},
   "source": [
    "Variables are **containers** for storing data values.\n",
    "\n",
    "To create a variable, you just assign it a value and then start using it. Assignment is done with a single equal sign `=`."
   ]
  },
  {
   "cell_type": "code",
   "execution_count": null,
   "id": "9033b88e",
   "metadata": {},
   "outputs": [],
   "source": [
    "# you are creating a variable named `first_variable` that contains the value 42\n",
    "first_variable = 42\n",
    "\n",
    "# here, you are printing the value contained in `first_variable`\n",
    "print(first_variable)"
   ]
  },
  {
   "cell_type": "code",
   "execution_count": null,
   "id": "0aecb0f2",
   "metadata": {},
   "outputs": [],
   "source": [
    "a, b = 7.5, 10 # you can do multiple assignment\n",
    "print(a, b)    # you can print the content of more than one variable\n"
   ]
  },
  {
   "cell_type": "markdown",
   "id": "e1126cff",
   "metadata": {},
   "source": [
    "For variable names NEVER use: numbers at the beginnig, blank spaces, this `-` symbol and special characters like !, @, %, $, &"
   ]
  },
  {
   "cell_type": "markdown",
   "id": "97b86886-45d8-4029-8e85-efdbd791d326",
   "metadata": {},
   "source": [
    "<p style='font-size: 22px'>\n",
    "    <span style='background:#FFCE33'>\n",
    "        <b> Exercise: </b> Define two varables with different values and swap their content\n",
    "    </span>\n",
    "</p>"
   ]
  },
  {
   "cell_type": "code",
   "execution_count": null,
   "id": "c99e836e-b286-41f4-ae78-9d21a8ab772e",
   "metadata": {},
   "outputs": [],
   "source": [
    "# Code here"
   ]
  },
  {
   "cell_type": "markdown",
   "id": "8b424c21",
   "metadata": {
    "tags": [],
    "toc-hr-collapsed": true
   },
   "source": [
    "### Data-Types"
   ]
  },
  {
   "cell_type": "markdown",
   "id": "f320a657-127e-4437-8a70-00fa371e94d8",
   "metadata": {},
   "source": [
    "A programmer usually have to manage different data types and `python` provides some base types.\n",
    "\n",
    "Here is an incomplete list:\n",
    "1) `None`: null object (an object with no value)\n",
    "2) **numeric**: simply numbers.\n",
    "    - **boolean** (`bool`): only two possible logic values `True` or `False`. \n",
    "    - **integer** (`int`): all possible integer values (..., `-1`, `0`, `1`, `2`, ...)\n",
    "    - **floating point** (`float`): represents rational numbers (`1.2`, `-7.0`, ...). Since Python (as any other programming language) runs on a finite machine irrational numbers are only\n",
    "    approximated as rational."
   ]
  },
  {
   "cell_type": "markdown",
   "id": "f6a3ee7a-4059-4ab2-8a8c-10242fc0f8be",
   "metadata": {},
   "source": [
    "#### Eamples"
   ]
  },
  {
   "cell_type": "code",
   "execution_count": null,
   "id": "cc1f70c5-ce22-4533-a0ce-baa32c6e8497",
   "metadata": {},
   "outputs": [],
   "source": [
    "null_var = None\n",
    "bool_var = True\n",
    "int_var = 5\n",
    "float_var = 333.6"
   ]
  },
  {
   "cell_type": "markdown",
   "id": "a7078ae6",
   "metadata": {},
   "source": [
    "#### Operations with numeric types"
   ]
  },
  {
   "cell_type": "markdown",
   "id": "a8dce72f",
   "metadata": {},
   "source": [
    "Each data type takes its operations. For numeric type they are quite intuitive, for data structure they may not."
   ]
  },
  {
   "cell_type": "markdown",
   "id": "3c64a7d5",
   "metadata": {},
   "source": [
    "With booleans there are logical operations like `not`, `and` and `or`."
   ]
  },
  {
   "cell_type": "code",
   "execution_count": null,
   "id": "8abcd969",
   "metadata": {},
   "outputs": [],
   "source": [
    "a = True\n",
    "b = False\n",
    "\n",
    "c = a and (not b) or False\n",
    "print(c)"
   ]
  },
  {
   "cell_type": "markdown",
   "id": "42f54289",
   "metadata": {},
   "source": [
    "Numeric types takes the traditional operations: sum `+`, subtraction `-`, product `*`, division `/`, and power `**`."
   ]
  },
  {
   "cell_type": "code",
   "execution_count": null,
   "id": "e993f40d",
   "metadata": {},
   "outputs": [],
   "source": [
    "a = 6**2\n",
    "a"
   ]
  },
  {
   "cell_type": "code",
   "execution_count": null,
   "id": "6936b78e",
   "metadata": {},
   "outputs": [],
   "source": [
    "a = (18*10 + 6**2 - 9*4)/10\n",
    "a"
   ]
  },
  {
   "cell_type": "markdown",
   "id": "3c5ebe16",
   "metadata": {},
   "source": [
    "We can also compare numeric types:\n",
    " - grater than (`>`), grater or equal than (`>=`)\n",
    " - less than (`<`), less or equal than (`<=`)\n",
    " - equal to (`==`), not equal to (`!=`)\n",
    "\n",
    "And the result of a comparison is a boolean."
   ]
  },
  {
   "cell_type": "code",
   "execution_count": null,
   "id": "996c64a3",
   "metadata": {},
   "outputs": [],
   "source": [
    "print(10 > 5)\n",
    "print(10 <= 5)\n",
    "print((10 > 5) and not (10 <= 5))"
   ]
  },
  {
   "cell_type": "markdown",
   "id": "8a5bc0fb-1f0c-4f0f-8ab1-97a7187f7375",
   "metadata": {},
   "source": [
    "<p style='font-size: 22px'>\n",
    "    <span style='background:#FFCE33'>\n",
    "        <b> Exercise: </b> Compute the following expression:\n",
    "    </span>\n",
    "</p>"
   ]
  },
  {
   "cell_type": "markdown",
   "id": "ab1fe5ea-7fe1-48d1-ae96-8f97cefb9672",
   "metadata": {},
   "source": [
    "\\begin{equation*}\n",
    "\\frac{1}{\\Bigl(\\sqrt{\\pi \\sqrt{5}}-\\phi\\Bigr) e^{\\frac25 \\pi}}\n",
    "\\end{equation*}\n",
    "\n",
    "where $\\pi=3.14$, $e = 2.72$, $\\phi$ is your favourite number "
   ]
  },
  {
   "cell_type": "code",
   "execution_count": null,
   "id": "43e1daf3-621d-400b-b654-737b279d6756",
   "metadata": {},
   "outputs": [],
   "source": [
    "# Code here\n"
   ]
  },
  {
   "cell_type": "markdown",
   "id": "00e79892-5c17-4c41-bd8c-9d6fc3f6ceb9",
   "metadata": {},
   "source": [
    "<p style='font-size: 22px'>\n",
    "    <span style='background:#FFCE33'>\n",
    "        <b> Exercise: </b> What happens if I multiply different types: 1) int and float, 2) int and bool\n",
    "    </span>\n",
    "</p>"
   ]
  },
  {
   "cell_type": "code",
   "execution_count": null,
   "id": "f6e907ca-e90d-4138-a225-6676addce0e7",
   "metadata": {},
   "outputs": [],
   "source": [
    "# Code here\n"
   ]
  },
  {
   "cell_type": "markdown",
   "id": "df998c35-f64e-4eda-a76c-079260024353",
   "metadata": {},
   "source": [
    "3) **data structure**: structures that organize numeric and non-numeric values according to specific needs.\n",
    "    - **string** (`str`): sequence of characters (simply text). Example: `'this is string'`.\n",
    "    - **list** (`list`): ordered sequence of objects (numbers, strings, whatever) indexed by non-negative indexes. Example: `[1, -4.2, 'hello']`\n",
    "    - **tuple** (`tuple`): same as lists but, while lists are *mutable* (insertion, deletion and substitution of elements is allowed) tuples are not. Indeed, tuples are *immutable*. Example: `(1, -4.2, 'hello')`\n",
    "    - **dictionary** (`dict`): collection of objects that are indexed by another collection of nearly arbitrary key values. From another point of view, it is a collection of key-value pairs. Example `{'key': 'value', 'a': 1, 6: -3.2}`\n",
    "    - **set** (`set`): unordered collection of unique items. Example: `{-1, 'string', 7.2}`\n",
    "    \n",
    "    "
   ]
  },
  {
   "cell_type": "markdown",
   "id": "88b980af-1e90-4599-bf5d-969ba5500447",
   "metadata": {},
   "source": [
    "#### Eamples"
   ]
  },
  {
   "cell_type": "code",
   "execution_count": null,
   "id": "94b4a345-682c-4bef-8523-57a4dc653c0e",
   "metadata": {},
   "outputs": [],
   "source": [
    "str_example = 'Hello world'"
   ]
  },
  {
   "cell_type": "code",
   "execution_count": null,
   "id": "5aeb0f62-2b59-4972-ba8e-2eea64040be5",
   "metadata": {},
   "outputs": [],
   "source": [
    "print(str_example[0]) # indexing starts from 0"
   ]
  },
  {
   "cell_type": "code",
   "execution_count": null,
   "id": "c67f9553",
   "metadata": {},
   "outputs": [],
   "source": [
    "list_example = ['ab', 2] # a list containing 2 elements\n",
    "list_example[1] = 3 # assignment\n",
    "print(list_example)"
   ]
  },
  {
   "cell_type": "code",
   "execution_count": null,
   "id": "bbacd970-f1f0-4e9f-bc06-ab57f0c82620",
   "metadata": {},
   "outputs": [],
   "source": [
    "tuple_example = ('ab', 3) # a tuple containing 2 elements\n",
    "print(tuple_example[0]) # the indexing is the same as for lists and strings"
   ]
  },
  {
   "cell_type": "markdown",
   "id": "e92e3304-d2be-4526-834a-4e635cc917fe",
   "metadata": {},
   "source": [
    "<p style='font-size: 22px'>\n",
    "    <span style='background:#FFCE33'>\n",
    "        <b> Exercise: </b> Create a tuple with the sum/or of the elements of the same type in the following list:\n",
    "    </span>\n",
    "</p>"
   ]
  },
  {
   "cell_type": "code",
   "execution_count": null,
   "id": "c07e9617-8e51-492d-8e6e-e04db1821d25",
   "metadata": {},
   "outputs": [],
   "source": [
    "values_list = [2, 1.6, 2.3, True, 22, False, True]"
   ]
  },
  {
   "cell_type": "code",
   "execution_count": null,
   "id": "10b71502-41c0-4386-bea5-690ef8cf9547",
   "metadata": {},
   "outputs": [],
   "source": [
    "# Code here\n"
   ]
  },
  {
   "cell_type": "markdown",
   "id": "3ede7e1a",
   "metadata": {
    "heading_collapsed": "false"
   },
   "source": [
    "Dictionaries provide a **_mapping_** between two related elements: **key** and **value**.  A key-value pair is called a dictionary *item*."
   ]
  },
  {
   "cell_type": "code",
   "execution_count": null,
   "id": "2c5998a3",
   "metadata": {
    "heading_collapsed": "false"
   },
   "outputs": [],
   "source": [
    "players_empty = {}                                          # this is an empty dictionary\n",
    "players_team = {\"Kane\": \"Tottenham\", \"Salah\": \"Liverpool\"}  # this is not"
   ]
  },
  {
   "cell_type": "markdown",
   "id": "39549470",
   "metadata": {
    "heading_collapsed": "false"
   },
   "source": [
    "To access a value, use the **`[]`** operator on the dictionary by calling the corresponding key:"
   ]
  },
  {
   "cell_type": "code",
   "execution_count": null,
   "id": "aa5ec33d",
   "metadata": {
    "heading_collapsed": "false"
   },
   "outputs": [],
   "source": [
    "print(players_team[\"Kane\"])"
   ]
  },
  {
   "cell_type": "markdown",
   "id": "6f885b59",
   "metadata": {
    "heading_collapsed": "false"
   },
   "source": [
    "Some useful methods to manage dictionaries:"
   ]
  },
  {
   "cell_type": "code",
   "execution_count": null,
   "id": "1482635b",
   "metadata": {
    "heading_collapsed": "false"
   },
   "outputs": [],
   "source": [
    "print(players_team.keys()) # returns all the keys\n",
    "print(players_team.values()) # returns all the values\n",
    "print(players_team.items()) # returns all the items"
   ]
  },
  {
   "cell_type": "code",
   "execution_count": null,
   "id": "b51670b4",
   "metadata": {
    "heading_collapsed": "false"
   },
   "outputs": [],
   "source": [
    "players_team['Martinelli'] = 'Arsenal' # Assigning new value 'Arsenal' to new key 'Martinelli'\n",
    "print(players_team.items())"
   ]
  },
  {
   "cell_type": "markdown",
   "id": "0c9bc3bd-a889-441d-b715-5e8a127ba01a",
   "metadata": {},
   "source": [
    "<p style='font-size: 22px'>\n",
    "    <span style='background:#FFCE33'>\n",
    "        <b> Exercise: </b> Fill the following dictionary through assignment operation\n",
    "    </span>\n",
    "</p>"
   ]
  },
  {
   "cell_type": "code",
   "execution_count": null,
   "id": "a1f40d4c-9eef-405b-830d-2276e719f040",
   "metadata": {},
   "outputs": [],
   "source": [
    "info_dict = {\n",
    "    'name': None,\n",
    "    'surname': None,\n",
    "    'age': None,\n",
    "    'birthday': None, # tuple with (yyyy, mm, dd)\n",
    "    'favourite movie': None\n",
    "          }"
   ]
  },
  {
   "cell_type": "code",
   "execution_count": null,
   "id": "f4e96671-eee7-49c6-9b5a-d51ddf29a913",
   "metadata": {},
   "outputs": [],
   "source": [
    "# Code here"
   ]
  },
  {
   "cell_type": "markdown",
   "id": "b129256c",
   "metadata": {
    "toc-hr-collapsed": true
   },
   "source": [
    "### Control Flow"
   ]
  },
  {
   "cell_type": "markdown",
   "id": "239aa358",
   "metadata": {},
   "source": [
    "Control flow allows a programmer to tell the machine the order in which the line of code must be executed. In `python` (similarly to most of other programming languages) the flow of the execution is regulated by conditional statements, loops, and function calls."
   ]
  },
  {
   "cell_type": "markdown",
   "id": "084e69d0",
   "metadata": {},
   "source": [
    "#### `if` statement"
   ]
  },
  {
   "cell_type": "markdown",
   "id": "2aee69cf",
   "metadata": {},
   "source": [
    "Often, you need to execute some statements only if some condition holds, or choose statements to execute depending on several mutually exclusive conditions.\n",
    "\n",
    "```python\n",
    "if <condition>:\n",
    "    <statement>\n",
    "elif <condition>:\n",
    "    <statement>\n",
    "else:\n",
    "    <statement>\n",
    "```\n",
    "\n",
    "`if`, `elif`, and `else` are the keyword defining the control flow, `<condition>` is anything that can be interpreted as a boolean, and `<statement>` is a block of code.\n",
    "\n",
    "Note that the colon mark `:` and the indentation have the role of defining the scope for each statement."
   ]
  },
  {
   "cell_type": "code",
   "execution_count": null,
   "id": "2f9ef690",
   "metadata": {},
   "outputs": [],
   "source": [
    "wavelength_nm = 500\n",
    "\n",
    "if wavelength_nm < 400:\n",
    "    print('ultraviolet')\n",
    "elif (wavelength_nm >= 400) and (wavelength_nm <= 700):\n",
    "    print('visible light')\n",
    "else:# wavelength_nm > 700\n",
    "    print('Infrared')"
   ]
  },
  {
   "cell_type": "markdown",
   "id": "3a4bc15e-77ac-428d-b957-f52d1700b4c3",
   "metadata": {},
   "source": [
    "<p style='font-size: 22px'>\n",
    "    <span style='background:#FFCE33'>\n",
    "        <b> Exercise: </b> Given info_dict defined above, write an if statement that tells you in which season you were born\n",
    "    </span>\n",
    "</p>"
   ]
  },
  {
   "cell_type": "markdown",
   "id": "c47724fd-e8ef-44f3-8f9e-1e66d6179bd3",
   "metadata": {},
   "source": [
    "- Spring: from 21 March to 20 June\n",
    "- Summer: from 21 June to 23 September\n",
    "- Autumn: from 24 September to 20 December\n",
    "- Winter: from 21 December to 20 March"
   ]
  },
  {
   "cell_type": "markdown",
   "id": "9a83ccfb",
   "metadata": {},
   "source": [
    "#### `for` loop"
   ]
  },
  {
   "cell_type": "markdown",
   "id": "5c836705",
   "metadata": {},
   "source": [
    "Often, you need to repeat the same operation for a given number of times or itereate over the elements of some sequence.\n",
    "\n",
    "```python\n",
    "for <element> in <sequence>:\n",
    "    <statement>\n",
    "```\n",
    "  \n",
    "`<sequence>` is anything you can iter over such as a tuple, a list, a string, an iterator (like `range()`). `<element>` is one of the elements of the sequence that are returned at each iteration."
   ]
  },
  {
   "cell_type": "code",
   "execution_count": null,
   "id": "be635f7f",
   "metadata": {},
   "outputs": [],
   "source": [
    "# range(4) -> [0, 1, 2, 3]\n",
    "for i in range(4): # range creates a sequence of int \n",
    "    print(i)"
   ]
  },
  {
   "cell_type": "code",
   "execution_count": null,
   "id": "85b4a81d",
   "metadata": {},
   "outputs": [],
   "source": [
    "for letter in 'Python': # a string is a sequence\n",
    "    print(letter)    "
   ]
  },
  {
   "cell_type": "code",
   "execution_count": null,
   "id": "42248f5c-d100-4aac-906b-5e9255c44d86",
   "metadata": {},
   "outputs": [],
   "source": [
    "sounds = {'dog': 'wof', 'cat': 'meow'}\n",
    "for key, value in sounds.items():\n",
    "    print(key, value) "
   ]
  },
  {
   "cell_type": "markdown",
   "id": "e65aa0e0-e974-4f69-a824-28114df2c935",
   "metadata": {},
   "source": [
    "<p style='font-size: 22px'>\n",
    "    <span style='background:#FFCE33'>\n",
    "        <b> Exercise: </b> Print the items of the info_dict and in case of birthdate also print the corresponding season\n",
    "    </span>\n",
    "</p>"
   ]
  },
  {
   "cell_type": "code",
   "execution_count": null,
   "id": "d61bd9bf-c230-45d4-9f83-325e900ce83c",
   "metadata": {},
   "outputs": [],
   "source": [
    "# Code here\n"
   ]
  },
  {
   "cell_type": "markdown",
   "id": "3cbc2ece",
   "metadata": {},
   "source": [
    "### Functions"
   ]
  },
  {
   "cell_type": "markdown",
   "id": "8bd69f77",
   "metadata": {},
   "source": [
    "Sometimes you need to use the same code in different part of your script. Re-writing the same code every time is very inefficient and error-prone (see the difference between [DRY and WET code](https://en.wikipedia.org/wiki/Don%27t_repeat_yourself)). To move around blocks of code avoiding repetition, you can use **functions**. Basically you wrap code inside a nice parcel and call it on need.\n",
    "\n",
    "```python\n",
    "def function_name(<argument1>, <argument2>, ...):\n",
    "    <block of code>\n",
    "    return <output>\n",
    "```\n",
    "    "
   ]
  },
  {
   "cell_type": "code",
   "execution_count": null,
   "id": "a6afde22",
   "metadata": {},
   "outputs": [],
   "source": [
    "def mean(number1, number2):\n",
    "    average = (number1 + number2)/2\n",
    "    return average\n",
    "    \n",
    "print(mean(10, 7))\n",
    "print(mean(214, 34590))"
   ]
  },
  {
   "cell_type": "markdown",
   "id": "17658532-7d70-416a-bfca-b7d596b5e2fb",
   "metadata": {},
   "source": [
    "<p style='font-size: 22px'>\n",
    "    <span style='background:#FFCE33'>\n",
    "        <b> Exercise: </b> Build a function that given an integer number outputs the cumulative sum (ex. if it takes 5, it should output the value that is equal to 0+1+2+3+4)\n",
    "    </span>\n",
    "</p>"
   ]
  },
  {
   "cell_type": "code",
   "execution_count": null,
   "id": "bf6a87dc-cec6-494b-914b-c7ae0aa7580e",
   "metadata": {},
   "outputs": [],
   "source": [
    "def cumsum(x):\n",
    "    # block of code here\n",
    "    return y"
   ]
  },
  {
   "cell_type": "markdown",
   "id": "bd7445f8",
   "metadata": {
    "heading_collapsed": "false"
   },
   "source": [
    "### Importing modules"
   ]
  },
  {
   "cell_type": "markdown",
   "id": "c5960c45",
   "metadata": {},
   "source": [
    "By default `python` does not come with all useful tools. They are often contained inside packages of code called **modules** that you need to explicitly invoke. You can do it with the `import` statement, followed by the name of the module.  "
   ]
  },
  {
   "cell_type": "code",
   "execution_count": null,
   "id": "6c1391d1",
   "metadata": {},
   "outputs": [],
   "source": [
    "# By running this cell you import the `math` and `os` modules\n",
    "import math\n",
    "import os"
   ]
  },
  {
   "cell_type": "markdown",
   "id": "346032dd",
   "metadata": {},
   "source": [
    "In Python modules are treated as **objects** that contain other objects. To access their content, you need to recall the name of the module, append a dot `.` and then the name of the content: `module.content`"
   ]
  },
  {
   "cell_type": "code",
   "execution_count": null,
   "id": "dc41c955",
   "metadata": {},
   "outputs": [],
   "source": [
    "# here you are using the value `pi` and the function 'sqrt' both contained in the module `math`\n",
    "print(math.pi, math.sqrt(121))"
   ]
  },
  {
   "cell_type": "code",
   "execution_count": null,
   "id": "48ffb37d",
   "metadata": {},
   "outputs": [],
   "source": [
    "# here you are using the function `listdir` contained in the module `os`\n",
    "os.listdir() # returns the list of the files' names in the current directory"
   ]
  },
  {
   "cell_type": "markdown",
   "id": "437a8a4b",
   "metadata": {},
   "source": [
    "You can also import a specific object from a module. In this case you do not need to specify the module before using it."
   ]
  },
  {
   "cell_type": "code",
   "execution_count": null,
   "id": "285f880f",
   "metadata": {},
   "outputs": [],
   "source": [
    "# here you are importing a specific function `randint` from a module `random`\n",
    "from random import randint"
   ]
  },
  {
   "cell_type": "code",
   "execution_count": null,
   "id": "3d14106a",
   "metadata": {},
   "outputs": [],
   "source": [
    "randint(1, 6) # returns random integer in range [1, 6]"
   ]
  },
  {
   "cell_type": "markdown",
   "id": "dace748e",
   "metadata": {
    "toc-hr-collapsed": true
   },
   "source": [
    "### NumPy"
   ]
  },
  {
   "cell_type": "markdown",
   "id": "5cad59b3",
   "metadata": {},
   "source": [
    "[`numpy`](https://numpy.org/) is a third-party package (that means it is not developed nor maintained by the [Python Software Foundation](https://www.python.org/psf/)) for **numerical computing** (**Num**erical **Py**thon package) and it's almost a standard in the Python community.\n",
    "\n",
    "It is an open-source package belonging to the *SciPy ecosystem* ([SciPy.org](https://www.scipy.org/index.html)) which consists in a collection of open-source software for scientific computing in Python and it is a standard in the Python community.\n",
    "\n",
    "`numpy` provides a multidimensional array object (arrays, matrices, etc.), various derived objects, and an assortment of routines for fast operations on arrays, including mathematical, logical, shape manipulation, sorting, selecting, I/O, discrete Fourier transforms, basic linear algebra, basic statistical operations, random simulation and much more."
   ]
  },
  {
   "cell_type": "code",
   "execution_count": 33,
   "id": "355503a5",
   "metadata": {},
   "outputs": [],
   "source": [
    "import numpy as np # standard abbreviation for numpy"
   ]
  },
  {
   "cell_type": "markdown",
   "id": "4c35099a",
   "metadata": {},
   "source": [
    "#### `numpy` `ndarray`"
   ]
  },
  {
   "cell_type": "markdown",
   "id": "e140c074",
   "metadata": {},
   "source": [
    "`ndarray` (n-dimensional array) is the main object in `numpy` and it is a table of elements (usually numbers), all of the same type, indexed by a tuple of non-negative integers.\n",
    "\n",
    "Example:\n",
    "```python\n",
    "np.ndarray([[1., 2., 3.],\n",
    "            [4., 5., 6.]])\n",
    "```\n",
    "This is a 2-dimensional array (a matrix) that has 2 elements on the first dimension (2 rows) and 3 elements on the second dimension (3 columns). In `numpy` each dimension is called *axis*."
   ]
  },
  {
   "cell_type": "code",
   "execution_count": 34,
   "id": "c06ab8ee",
   "metadata": {},
   "outputs": [
    {
     "data": {
      "text/plain": [
       "array([[0.29153198, 0.89089432, 0.88330406],\n",
       "       [0.74959376, 0.93998535, 0.107906  ]])"
      ]
     },
     "execution_count": 34,
     "metadata": {},
     "output_type": "execute_result"
    }
   ],
   "source": [
    "# generate a random 2D array with 2 rows and 3 columns (i.e., with shape (2,3))\n",
    "a = np.random.rand(2, 3)\n",
    "a"
   ]
  },
  {
   "cell_type": "code",
   "execution_count": 35,
   "id": "f2ff37a3",
   "metadata": {},
   "outputs": [
    {
     "name": "stdout",
     "output_type": "stream",
     "text": [
      "number of dimensions: 2\n",
      "shape: (2, 3)\n",
      "type: float64\n"
     ]
    }
   ],
   "source": [
    "print('number of dimensions:', a.ndim)\n",
    "print('shape:', a.shape)\n",
    "print('type:', a.dtype)"
   ]
  },
  {
   "cell_type": "markdown",
   "id": "39b1f1a1",
   "metadata": {},
   "source": [
    "`ndarray`s can have an aribitrary number of dimensions."
   ]
  },
  {
   "cell_type": "code",
   "execution_count": 36,
   "id": "16dd084c",
   "metadata": {},
   "outputs": [
    {
     "name": "stdout",
     "output_type": "stream",
     "text": [
      "[ 0  1  2  3  4  5  6  7  8  9 10 11 12 13 14 15 16 17 18 19 20 21 22 23]\n",
      "ndim: 1, shape: (24,), type: int32\n"
     ]
    }
   ],
   "source": [
    "# generate 1D array containing integers from 0 to 23\n",
    "b = np.arange(24)\n",
    "print(b)\n",
    "print(f'ndim: {b.ndim}, shape: {b.shape}, type: {b.dtype}')"
   ]
  },
  {
   "cell_type": "code",
   "execution_count": 39,
   "id": "6ce8ba77",
   "metadata": {},
   "outputs": [
    {
     "name": "stdout",
     "output_type": "stream",
     "text": [
      "[[[ 0  1  2]\n",
      "  [ 3  4  5]\n",
      "  [ 6  7  8]\n",
      "  [ 9 10 11]]\n",
      "\n",
      " [[12 13 14]\n",
      "  [15 16 17]\n",
      "  [18 19 20]\n",
      "  [21 22 23]]]\n",
      "ndim: 3, shape: (2, 4, 3), type: int32\n"
     ]
    }
   ],
   "source": [
    "b = b.reshape(2, 4, 3)\n",
    "print(b)\n",
    "print(f'ndim: {b.ndim}, shape: {b.shape}, type: {b.dtype}')"
   ]
  },
  {
   "cell_type": "markdown",
   "id": "e727949a",
   "metadata": {
    "heading_collapsed": "true"
   },
   "source": [
    "##### basic operations"
   ]
  },
  {
   "cell_type": "markdown",
   "id": "3671bf15",
   "metadata": {},
   "source": [
    "The same arithmetic operators we have seen for numeric types apply on arrays in a **elementwise**."
   ]
  },
  {
   "cell_type": "code",
   "execution_count": 40,
   "id": "892b7e7d",
   "metadata": {},
   "outputs": [
    {
     "name": "stdout",
     "output_type": "stream",
     "text": [
      "a: [ 0  1  2  3  4  5  6  7  8  9 10 11]\n",
      "b: [ 0  2  4  6  8 10 12 14 16 18 20 22]\n",
      "c: [ 0  3  6  9 12 15 18 21 24 27 30 33]\n"
     ]
    }
   ],
   "source": [
    "# create a 1D array\n",
    "a = np.arange(12)\n",
    "print('a:', a)\n",
    "\n",
    "# multiply an array by a scalar\n",
    "b = 2*a\n",
    "print('b:', b)\n",
    "\n",
    "# sum of 2 arrays with the same shape\n",
    "c = a + b\n",
    "print('c:', c)"
   ]
  },
  {
   "cell_type": "code",
   "execution_count": 41,
   "id": "f80bb1a8",
   "metadata": {},
   "outputs": [
    {
     "name": "stdout",
     "output_type": "stream",
     "text": [
      "0\n",
      "1\n",
      "2\n",
      "3\n",
      "4\n",
      "5\n",
      "6\n",
      "7\n",
      "8\n",
      "9\n",
      "10\n",
      "11\n"
     ]
    }
   ],
   "source": [
    "for i in a:\n",
    "    print(i)\n",
    "    "
   ]
  },
  {
   "cell_type": "markdown",
   "id": "fb9580dd",
   "metadata": {},
   "source": [
    "Unlike in many matrix languages, the product operator `*` operates elementwise in `numpy`. The matrix product can be performed using the `@` operator."
   ]
  },
  {
   "cell_type": "code",
   "execution_count": 43,
   "id": "57989922",
   "metadata": {},
   "outputs": [
    {
     "data": {
      "text/plain": [
       "(array([[0, 1, 2],\n",
       "        [3, 4, 5]]),\n",
       " array([[2, 2, 2],\n",
       "        [2, 2, 2]]))"
      ]
     },
     "execution_count": 43,
     "metadata": {},
     "output_type": "execute_result"
    }
   ],
   "source": [
    "A = np.arange(6).reshape(2,3)\n",
    "B = 2*np.ones((2,3), dtype=int)\n",
    "A, B"
   ]
  },
  {
   "cell_type": "code",
   "execution_count": 44,
   "id": "3f059b16",
   "metadata": {},
   "outputs": [
    {
     "data": {
      "text/plain": [
       "array([[ 0,  2,  4],\n",
       "       [ 6,  8, 10]])"
      ]
     },
     "execution_count": 44,
     "metadata": {},
     "output_type": "execute_result"
    }
   ],
   "source": [
    "# elementwise multiplication\n",
    "C = A * B\n",
    "C"
   ]
  },
  {
   "cell_type": "code",
   "execution_count": 45,
   "id": "689d8841",
   "metadata": {},
   "outputs": [
    {
     "data": {
      "text/plain": [
       "array([[ 6,  6],\n",
       "       [24, 24]])"
      ]
     },
     "execution_count": 45,
     "metadata": {},
     "output_type": "execute_result"
    }
   ],
   "source": [
    "# matrix multiplication (dot product)\n",
    "D = A @ B.T    # B transposed to match dimensions\n",
    "D"
   ]
  },
  {
   "cell_type": "markdown",
   "id": "dd07df12-c49b-4228-b4a9-ee905c873ac8",
   "metadata": {},
   "source": [
    "<p style='font-size: 22px'>\n",
    "    <span style='background:#FFCE33'>\n",
    "        <b> Exercise: </b> 1) Build a random 1x3 vector and a random 4x3 matrix 2) execute a dot product among them 3) compute the squared sum of the elements in the result\n",
    "    </span>\n",
    "</p>"
   ]
  },
  {
   "cell_type": "code",
   "execution_count": null,
   "id": "ba3fbd1e-1458-4a39-b4ca-26430f713fe5",
   "metadata": {},
   "outputs": [],
   "source": [
    "# Code here\n"
   ]
  },
  {
   "cell_type": "markdown",
   "id": "26a7a8cb",
   "metadata": {
    "heading_collapsed": "true"
   },
   "source": [
    "##### Indexing"
   ]
  },
  {
   "cell_type": "markdown",
   "id": "a4ac174b",
   "metadata": {},
   "source": [
    "`numpy` arrays support basic indexing and slicing, plus new fancy ways of doing it."
   ]
  },
  {
   "cell_type": "code",
   "execution_count": null,
   "id": "9316073e",
   "metadata": {},
   "outputs": [],
   "source": [
    "a = np.arange(10)**3\n",
    "a"
   ]
  },
  {
   "cell_type": "code",
   "execution_count": null,
   "id": "936d2948",
   "metadata": {},
   "outputs": [],
   "source": [
    "a[9]"
   ]
  },
  {
   "cell_type": "code",
   "execution_count": null,
   "id": "42187c5a",
   "metadata": {},
   "outputs": [],
   "source": [
    "a[2:5]  # Note: 2 is included and 5 excluded (standard Python indexing)"
   ]
  },
  {
   "cell_type": "code",
   "execution_count": null,
   "id": "dbe161f7",
   "metadata": {},
   "outputs": [],
   "source": [
    "a[0:6:2]"
   ]
  },
  {
   "cell_type": "code",
   "execution_count": null,
   "id": "1e91e93f",
   "metadata": {},
   "outputs": [],
   "source": [
    "a[:6:2] = 1000 # equivalent to `a[0:6:2] = 1000`\n",
    "a"
   ]
  },
  {
   "cell_type": "code",
   "execution_count": null,
   "id": "f6824d35",
   "metadata": {},
   "outputs": [],
   "source": [
    "a[-1]"
   ]
  },
  {
   "cell_type": "code",
   "execution_count": null,
   "id": "1a467033",
   "metadata": {},
   "outputs": [],
   "source": [
    "a[::-1]"
   ]
  },
  {
   "cell_type": "code",
   "execution_count": null,
   "id": "db43c285",
   "metadata": {},
   "outputs": [],
   "source": [
    "A = np.arange(6).reshape(2,3)\n",
    "A"
   ]
  },
  {
   "cell_type": "code",
   "execution_count": null,
   "id": "50c31cc4",
   "metadata": {},
   "outputs": [],
   "source": [
    "A[1, 0]"
   ]
  },
  {
   "cell_type": "code",
   "execution_count": null,
   "id": "8dee8691-6a21-4076-a57c-115de0b7074e",
   "metadata": {},
   "outputs": [],
   "source": [
    "A[:, ::2]"
   ]
  },
  {
   "cell_type": "markdown",
   "id": "e298615f-25a1-477f-b5f6-fe123f08a9b7",
   "metadata": {},
   "source": [
    "<p style='font-size: 22px'>\n",
    "    <span style='background:#FFCE33'>\n",
    "        <b> Exercise: </b> 1) generate a 12x6 random matrix and print the elements corresponding to the last 3 rows and the first 2 even columns.\n",
    "    </span>\n",
    "</p>"
   ]
  },
  {
   "cell_type": "code",
   "execution_count": null,
   "id": "a52a1a98-5fa1-47b4-ab05-5151d859891f",
   "metadata": {},
   "outputs": [],
   "source": [
    "# Code Here"
   ]
  },
  {
   "cell_type": "markdown",
   "id": "bc0a1b8a",
   "metadata": {
    "toc-hr-collapsed": true
   },
   "source": [
    "### Matplotlib"
   ]
  },
  {
   "cell_type": "markdown",
   "id": "32b38040",
   "metadata": {},
   "source": [
    "[`matplotlib`](https://matplotlib.org/) is a comprehensive library for creating static, animated, and interactive **visualizations** in Python.\n",
    "\n",
    "Like `numpy`, it is part of the *SciPy ecosistem* and play the role of the standard basic library for visualization in the Python community."
   ]
  },
  {
   "cell_type": "code",
   "execution_count": null,
   "id": "e2de47fa",
   "metadata": {},
   "outputs": [],
   "source": [
    "import matplotlib.pyplot as plt  # standard abbreviation for pyplot"
   ]
  },
  {
   "cell_type": "markdown",
   "id": "427ce637",
   "metadata": {},
   "source": [
    "Let's create a basic plot"
   ]
  },
  {
   "cell_type": "code",
   "execution_count": null,
   "id": "7a56d842",
   "metadata": {},
   "outputs": [],
   "source": [
    "t = np.arange(100)     # 1D array for time (x-axis in the plot)\n",
    "x = np.sin(np.pi*t/10) # 1D array for amplitude (y-axis in the plot)"
   ]
  },
  {
   "cell_type": "code",
   "execution_count": null,
   "id": "3c47757d",
   "metadata": {},
   "outputs": [],
   "source": [
    "plt.plot(t, x, '-o')"
   ]
  },
  {
   "cell_type": "markdown",
   "id": "3d40ae84",
   "metadata": {},
   "source": [
    "A plot is made of two main elements:\n",
    "- figure: think it as the frame of the image that is displayed\n",
    "- axis: think as the object that is displayed and we can have more than one axis in a figure\n",
    "\n",
    "`pyplot` provides the `subplots` method that allow to have control on those two objects."
   ]
  },
  {
   "cell_type": "code",
   "execution_count": null,
   "id": "23762a77",
   "metadata": {},
   "outputs": [],
   "source": [
    "fig, ax = plt.subplots()\n",
    "\n",
    "ax.plot(t, x) # plotting directly from the axis\n",
    "# adding title and labels on axes\n",
    "ax.set(xlabel='time [s]', ylabel='amplitude', title='first plot')\n",
    "ax.grid(True) # adding grid to the background\n",
    "\n",
    "fig.savefig('first_plot')"
   ]
  },
  {
   "cell_type": "code",
   "execution_count": null,
   "id": "cabc534d",
   "metadata": {},
   "outputs": [],
   "source": [
    "t = np.arange(0, 10, 0.1)\n",
    "x = np.sqrt(t) * np.sin(np.pi*t)\n",
    "y = np.exp(-t**2/10) * np.cos(2*np.pi*t)\n",
    "\n",
    "fig, ax = plt.subplots()\n",
    "ax.plot(t, x, label='x') # first line plot\n",
    "ax.plot(t, y, label='y') # second line plot\n",
    "ax.legend(loc='upper left') # adding legend to the plot\n",
    "ax.set(xlabel='time [s]', ylabel='amplitude', title='first plot')\n",
    "ax.grid(True)"
   ]
  },
  {
   "cell_type": "markdown",
   "id": "48acc7ae",
   "metadata": {
    "heading_collapsed": "false"
   },
   "source": [
    "#### Histograms"
   ]
  },
  {
   "cell_type": "markdown",
   "id": "3e8292ea-b976-44c2-a3c5-b705487f74ef",
   "metadata": {},
   "source": [
    "Histogram is a way to visualize the distribution of numerical data."
   ]
  },
  {
   "cell_type": "code",
   "execution_count": null,
   "id": "df0b7f69",
   "metadata": {
    "heading_collapsed": "false"
   },
   "outputs": [],
   "source": [
    "n = np.random.normal(1, 2, 100000)               # generate data from normal distribution\n",
    "fig, ax = plt.subplots(1, 1, figsize=(6, 3))\n",
    "\n",
    "ax.hist(n, bins=50)              \n",
    "ax.set_title(\"Normal histogram\")\n",
    "ax.set_xlim((min(n), max(n)))\n",
    "ax.set_ylabel('frequency')\n",
    "ax.set_xlabel('value');\n"
   ]
  },
  {
   "cell_type": "markdown",
   "id": "b52c4402",
   "metadata": {},
   "source": [
    "### Files"
   ]
  },
  {
   "cell_type": "markdown",
   "id": "de54915e",
   "metadata": {},
   "source": [
    "#### read text"
   ]
  },
  {
   "cell_type": "markdown",
   "id": "ae7914a0-0feb-4dc3-9c10-43d0195c421d",
   "metadata": {},
   "source": [
    "encoding is the name of the encoding used to decode or encode the file and has to be used only in text mode"
   ]
  },
  {
   "cell_type": "code",
   "execution_count": null,
   "id": "7d7e4739",
   "metadata": {},
   "outputs": [],
   "source": [
    "with open(file='text_file.txt', mode='r') as f:\n",
    "    txt = f.read()"
   ]
  },
  {
   "cell_type": "code",
   "execution_count": null,
   "id": "96afdccd",
   "metadata": {},
   "outputs": [],
   "source": [
    "txt"
   ]
  },
  {
   "cell_type": "code",
   "execution_count": null,
   "id": "8e13e893-60b3-491e-b25e-1495425578ce",
   "metadata": {},
   "outputs": [],
   "source": [
    "with open(file='text_file.txt', mode='r') as f:\n",
    "    txt = f.read()"
   ]
  },
  {
   "cell_type": "code",
   "execution_count": null,
   "id": "6e4ecf92-a0eb-46e3-85ff-e525f6ed465d",
   "metadata": {},
   "outputs": [],
   "source": [
    "print(txt)"
   ]
  },
  {
   "cell_type": "markdown",
   "id": "1966d6ec",
   "metadata": {},
   "source": [
    "#### write pickle"
   ]
  },
  {
   "cell_type": "markdown",
   "id": "4a2129dd-c8c7-427b-8d06-d76726bdb6fe",
   "metadata": {},
   "source": [
    "We can also save/load files different from text, these files have to be managed in binary format.\n",
    "\n",
    "To read/write it is necessary to indicate the binary mode through an additional charecter 'b'."
   ]
  },
  {
   "cell_type": "code",
   "execution_count": null,
   "id": "727a6726",
   "metadata": {},
   "outputs": [],
   "source": [
    "import pickle\n",
    "\n",
    "with open(file='pleayers_team.pkl', mode='wb') as f:\n",
    "        pickle.dump(pleayers_team, f)\n",
    "      "
   ]
  },
  {
   "cell_type": "markdown",
   "id": "2e546039-93bd-42a3-b235-a377f837be4b",
   "metadata": {},
   "source": [
    "The *pickle* module implements binary protocols for serializing and de-serializing a Python object structure. *“Pickling”* is the process whereby a Python object hierarchy is converted into a byte stream, and *“unpickling”* is the inverse operation, whereby a byte stream (from a binary file or bytes-like object) is converted back into an object hierarchy. "
   ]
  },
  {
   "cell_type": "markdown",
   "id": "9e1a6f56",
   "metadata": {},
   "source": [
    "#### read pickle"
   ]
  },
  {
   "cell_type": "code",
   "execution_count": null,
   "id": "fd41a2ac",
   "metadata": {},
   "outputs": [],
   "source": [
    "with open(file='pleayers_team.pkl', mode= 'rb') as f:\n",
    "    pleayers_team2 = pickle.load(f)"
   ]
  },
  {
   "cell_type": "code",
   "execution_count": null,
   "id": "3251cb8b",
   "metadata": {},
   "outputs": [],
   "source": [
    "pleayers_team"
   ]
  },
  {
   "cell_type": "code",
   "execution_count": null,
   "id": "5b75bb70",
   "metadata": {},
   "outputs": [],
   "source": [
    "pleayers_team2"
   ]
  },
  {
   "cell_type": "markdown",
   "id": "f9d6b608-f44a-4bb6-8cf4-20e0849c588f",
   "metadata": {},
   "source": [
    "With text files sometims it is sometimes necessary to specify the value of an additional field *encoding*, e.,g., encoding='utf-8'.\n",
    "\n",
    "Encoding is the name of the encoding used to decode or encode the file. "
   ]
  },
  {
   "cell_type": "code",
   "execution_count": null,
   "id": "8f699be4-67a2-4640-99ed-b336419f9075",
   "metadata": {},
   "outputs": [],
   "source": [
    "with open(file='text_file.txt', encoding='utf-8') as f:\n",
    "    txt = f.read()"
   ]
  },
  {
   "cell_type": "code",
   "execution_count": null,
   "id": "1503aa52-1524-4d08-bae0-8c2a73891be1",
   "metadata": {},
   "outputs": [],
   "source": [
    "print(txt)"
   ]
  }
 ],
 "metadata": {
  "kernelspec": {
   "display_name": "Python 3 (ipykernel)",
   "language": "python",
   "name": "python3"
  },
  "language_info": {
   "codemirror_mode": {
    "name": "ipython",
    "version": 3
   },
   "file_extension": ".py",
   "mimetype": "text/x-python",
   "name": "python",
   "nbconvert_exporter": "python",
   "pygments_lexer": "ipython3",
   "version": "3.10.9"
  }
 },
 "nbformat": 4,
 "nbformat_minor": 5
}
